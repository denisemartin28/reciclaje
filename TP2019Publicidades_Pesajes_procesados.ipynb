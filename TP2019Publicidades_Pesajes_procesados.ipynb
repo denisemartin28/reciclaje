{
 "cells": [
  {
   "cell_type": "code",
   "execution_count": 1,
   "metadata": {},
   "outputs": [],
   "source": [
    "import numpy as np\n",
    "import pandas as pd\n",
    "import matplotlib.pyplot as plt\n",
    "import seaborn as sns\n",
    "import functools as ft"
   ]
  },
  {
   "cell_type": "code",
   "execution_count": 2,
   "metadata": {},
   "outputs": [],
   "source": [
    "filename = r'C:\\Users\\leoma\\Notebooks\\TP2019\\pesajes_nulos.csv'\n",
    "pesajes = pd.read_csv(filename, delimiter=';', decimal='.')"
   ]
  },
  {
   "cell_type": "code",
   "execution_count": 3,
   "metadata": {},
   "outputs": [
    {
     "name": "stdout",
     "output_type": "stream",
     "text": [
      "<class 'str'>\n",
      "<class 'str'>\n",
      "<class 'numpy.int64'>\n",
      "<class 'numpy.int64'>\n",
      "<class 'numpy.int64'>\n",
      "<class 'numpy.float64'>\n",
      "<class 'numpy.float64'>\n",
      "<class 'numpy.float64'>\n",
      "<class 'numpy.float64'>\n",
      "<class 'numpy.float64'>\n",
      "<class 'numpy.float64'>\n"
     ]
    }
   ],
   "source": [
    "## AHORA TODOS SON FLOTANTES (este bloque despues borrarlo)\n",
    "\n",
    "for i in range(0,11):\n",
    "    print(type(pesajes.iloc[0,i]))"
   ]
  },
  {
   "cell_type": "code",
   "execution_count": 4,
   "metadata": {},
   "outputs": [
    {
     "data": {
      "text/html": [
       "<div>\n",
       "<style scoped>\n",
       "    .dataframe tbody tr th:only-of-type {\n",
       "        vertical-align: middle;\n",
       "    }\n",
       "\n",
       "    .dataframe tbody tr th {\n",
       "        vertical-align: top;\n",
       "    }\n",
       "\n",
       "    .dataframe thead th {\n",
       "        text-align: right;\n",
       "    }\n",
       "</style>\n",
       "<table border=\"1\" class=\"dataframe\">\n",
       "  <thead>\n",
       "    <tr style=\"text-align: right;\">\n",
       "      <th></th>\n",
       "      <th>PUNTO</th>\n",
       "      <th>COMUNA</th>\n",
       "      <th>ANIO</th>\n",
       "      <th>MES</th>\n",
       "      <th>SEMANA</th>\n",
       "      <th>VIDRIO</th>\n",
       "      <th>PAPEL_Y_CARTON</th>\n",
       "      <th>METAL</th>\n",
       "      <th>TELGOPOR</th>\n",
       "      <th>PLASTICOS_TODOS_LOS_DEMAS</th>\n",
       "      <th>TETRA_BRICK</th>\n",
       "    </tr>\n",
       "  </thead>\n",
       "  <tbody>\n",
       "    <tr>\n",
       "      <th>0</th>\n",
       "      <td>PARQUE AVELLANEDA</td>\n",
       "      <td>COMUNA 9</td>\n",
       "      <td>2015</td>\n",
       "      <td>1</td>\n",
       "      <td>1</td>\n",
       "      <td>163.23</td>\n",
       "      <td>123.67</td>\n",
       "      <td>27.55</td>\n",
       "      <td>0.00</td>\n",
       "      <td>67.17</td>\n",
       "      <td>8.54</td>\n",
       "    </tr>\n",
       "    <tr>\n",
       "      <th>1</th>\n",
       "      <td>PARQUE AVELLANEDA</td>\n",
       "      <td>COMUNA 9</td>\n",
       "      <td>2015</td>\n",
       "      <td>1</td>\n",
       "      <td>2</td>\n",
       "      <td>143.71</td>\n",
       "      <td>138.21</td>\n",
       "      <td>7.91</td>\n",
       "      <td>0.00</td>\n",
       "      <td>67.31</td>\n",
       "      <td>8.54</td>\n",
       "    </tr>\n",
       "    <tr>\n",
       "      <th>2</th>\n",
       "      <td>PARQUE AVELLANEDA</td>\n",
       "      <td>COMUNA 9</td>\n",
       "      <td>2015</td>\n",
       "      <td>1</td>\n",
       "      <td>3</td>\n",
       "      <td>134.47</td>\n",
       "      <td>154.43</td>\n",
       "      <td>7.24</td>\n",
       "      <td>1.42</td>\n",
       "      <td>75.35</td>\n",
       "      <td>8.54</td>\n",
       "    </tr>\n",
       "  </tbody>\n",
       "</table>\n",
       "</div>"
      ],
      "text/plain": [
       "               PUNTO    COMUNA  ANIO  MES  SEMANA  VIDRIO  PAPEL_Y_CARTON  \\\n",
       "0  PARQUE AVELLANEDA  COMUNA 9  2015    1       1  163.23          123.67   \n",
       "1  PARQUE AVELLANEDA  COMUNA 9  2015    1       2  143.71          138.21   \n",
       "2  PARQUE AVELLANEDA  COMUNA 9  2015    1       3  134.47          154.43   \n",
       "\n",
       "   METAL  TELGOPOR  PLASTICOS_TODOS_LOS_DEMAS  TETRA_BRICK  \n",
       "0  27.55      0.00                      67.17         8.54  \n",
       "1   7.91      0.00                      67.31         8.54  \n",
       "2   7.24      1.42                      75.35         8.54  "
      ]
     },
     "execution_count": 4,
     "metadata": {},
     "output_type": "execute_result"
    }
   ],
   "source": [
    "pesajes.head(3)"
   ]
  },
  {
   "cell_type": "code",
   "execution_count": 5,
   "metadata": {},
   "outputs": [
    {
     "data": {
      "text/html": [
       "<div>\n",
       "<style scoped>\n",
       "    .dataframe tbody tr th:only-of-type {\n",
       "        vertical-align: middle;\n",
       "    }\n",
       "\n",
       "    .dataframe tbody tr th {\n",
       "        vertical-align: top;\n",
       "    }\n",
       "\n",
       "    .dataframe thead th {\n",
       "        text-align: right;\n",
       "    }\n",
       "</style>\n",
       "<table border=\"1\" class=\"dataframe\">\n",
       "  <thead>\n",
       "    <tr style=\"text-align: right;\">\n",
       "      <th></th>\n",
       "      <th>long</th>\n",
       "      <th>lat</th>\n",
       "      <th>id</th>\n",
       "      <th>plaza</th>\n",
       "      <th>tipo</th>\n",
       "      <th>tipo_norma</th>\n",
       "      <th>materiales</th>\n",
       "      <th>dias_y_horario</th>\n",
       "      <th>cooperativa</th>\n",
       "      <th>calle</th>\n",
       "      <th>altura</th>\n",
       "      <th>calle2</th>\n",
       "      <th>direccion</th>\n",
       "      <th>barrio</th>\n",
       "      <th>comuna</th>\n",
       "      <th>observaciones</th>\n",
       "    </tr>\n",
       "  </thead>\n",
       "  <tbody>\n",
       "    <tr>\n",
       "      <th>0</th>\n",
       "      <td>-58.465309</td>\n",
       "      <td>-34.567226</td>\n",
       "      <td>1</td>\n",
       "      <td>Plaza Castelli</td>\n",
       "      <td>Punto Verde Con Atención</td>\n",
       "      <td>punto_verde_con_atencion</td>\n",
       "      <td>Papel / Cartón / Vidrio / Metal / Plástico / T...</td>\n",
       "      <td>Miércoles a Domingos de 11 a 19hs.</td>\n",
       "      <td>Amanecer</td>\n",
       "      <td>Conde</td>\n",
       "      <td>0</td>\n",
       "      <td>Juramento</td>\n",
       "      <td>CONDE y JURAMENTO</td>\n",
       "      <td>Belgrano</td>\n",
       "      <td>Comuna 13</td>\n",
       "      <td>Para entregar los materiales, éstos deben esta...</td>\n",
       "    </tr>\n",
       "    <tr>\n",
       "      <th>1</th>\n",
       "      <td>-58.424945</td>\n",
       "      <td>-34.589219</td>\n",
       "      <td>2</td>\n",
       "      <td>Plaza Armenia</td>\n",
       "      <td>Punto Verde Con Atención</td>\n",
       "      <td>punto_verde_con_atencion</td>\n",
       "      <td>Papel / Cartón / Vidrio / Metal / Plástico / T...</td>\n",
       "      <td>Miércoles a Domingos de 11 a 19hs.</td>\n",
       "      <td>Ceibo</td>\n",
       "      <td>Malabia</td>\n",
       "      <td>0</td>\n",
       "      <td>Costa Rica</td>\n",
       "      <td>MALABIA y COSTA RICA</td>\n",
       "      <td>Palermo</td>\n",
       "      <td>Comuna 14</td>\n",
       "      <td>Para entregar los materiales, éstos deben esta...</td>\n",
       "    </tr>\n",
       "    <tr>\n",
       "      <th>2</th>\n",
       "      <td>-58.468392</td>\n",
       "      <td>-34.547087</td>\n",
       "      <td>3</td>\n",
       "      <td>Plaza Balcarce</td>\n",
       "      <td>Punto Verde Con Atención</td>\n",
       "      <td>punto_verde_con_atencion</td>\n",
       "      <td>Papel / Cartón / Vidrio / Metal / Plástico / T...</td>\n",
       "      <td>Miércoles a Domingos de 11 a 19hs.</td>\n",
       "      <td>Madreselva</td>\n",
       "      <td>Manzanares</td>\n",
       "      <td>0</td>\n",
       "      <td>Vuelta de Obligado</td>\n",
       "      <td>MANZANARES y VUELTA DE OBLIGADO</td>\n",
       "      <td>Nuñez</td>\n",
       "      <td>Comuna 13</td>\n",
       "      <td>Para entregar los materiales, éstos deben esta...</td>\n",
       "    </tr>\n",
       "  </tbody>\n",
       "</table>\n",
       "</div>"
      ],
      "text/plain": [
       "        long        lat  id           plaza                      tipo  \\\n",
       "0 -58.465309 -34.567226   1  Plaza Castelli  Punto Verde Con Atención   \n",
       "1 -58.424945 -34.589219   2   Plaza Armenia  Punto Verde Con Atención   \n",
       "2 -58.468392 -34.547087   3  Plaza Balcarce  Punto Verde Con Atención   \n",
       "\n",
       "                 tipo_norma  \\\n",
       "0  punto_verde_con_atencion   \n",
       "1  punto_verde_con_atencion   \n",
       "2  punto_verde_con_atencion   \n",
       "\n",
       "                                          materiales  \\\n",
       "0  Papel / Cartón / Vidrio / Metal / Plástico / T...   \n",
       "1  Papel / Cartón / Vidrio / Metal / Plástico / T...   \n",
       "2  Papel / Cartón / Vidrio / Metal / Plástico / T...   \n",
       "\n",
       "                       dias_y_horario cooperativa       calle  altura  \\\n",
       "0  Miércoles a Domingos de 11 a 19hs.    Amanecer       Conde       0   \n",
       "1  Miércoles a Domingos de 11 a 19hs.       Ceibo     Malabia       0   \n",
       "2  Miércoles a Domingos de 11 a 19hs.  Madreselva  Manzanares       0   \n",
       "\n",
       "               calle2                        direccion    barrio     comuna  \\\n",
       "0           Juramento                CONDE y JURAMENTO  Belgrano  Comuna 13   \n",
       "1          Costa Rica             MALABIA y COSTA RICA   Palermo  Comuna 14   \n",
       "2  Vuelta de Obligado  MANZANARES y VUELTA DE OBLIGADO     Nuñez  Comuna 13   \n",
       "\n",
       "                                       observaciones  \n",
       "0  Para entregar los materiales, éstos deben esta...  \n",
       "1  Para entregar los materiales, éstos deben esta...  \n",
       "2  Para entregar los materiales, éstos deben esta...  "
      ]
     },
     "execution_count": 5,
     "metadata": {},
     "output_type": "execute_result"
    }
   ],
   "source": [
    "filename = r'C:\\Users\\leoma\\Desktop\\UTN\\Ciencia de Datos\\DataSets\\TP2019\\puntos-verdes.csv'\n",
    "puntos_verdes = pd.read_csv(filename, delimiter=',')\n",
    "puntos_verdes.head(3)"
   ]
  },
  {
   "cell_type": "code",
   "execution_count": 6,
   "metadata": {
    "scrolled": true
   },
   "outputs": [
    {
     "data": {
      "text/plain": [
       "long      0\n",
       "lat       0\n",
       "comuna    0\n",
       "dtype: int64"
      ]
     },
     "execution_count": 6,
     "metadata": {},
     "output_type": "execute_result"
    }
   ],
   "source": [
    "puntos_verdes = puntos_verdes.iloc[:,[0,1,14]]\n",
    "puntos_verdes = puntos_verdes.dropna()\n",
    "puntos_verdes.drop_duplicates().isnull().sum()"
   ]
  },
  {
   "cell_type": "code",
   "execution_count": 7,
   "metadata": {},
   "outputs": [],
   "source": [
    "# Traducimos las comunas a solamente un numero y mergeamos los Dataframes\n",
    "\n",
    "comunas_distintas_puntosVerdes = ['Comuna 1', 'Comuna 2', 'Comuna 3', 'Comuna 4', 'Comuna 5', 'Comuna 6', 'Comuna 7',\n",
    "                                  'Comuna 8', 'Comuna 9', 'Comuna 10', 'Comuna 11', 'Comuna 12', 'Comuna 13', 'Comuna 14', 'Comuna 15']\n",
    "\n",
    "comunas_distintas_Pesajes = ['COMUNA 1', 'COMUNA 2', 'COMUNA 3', 'COMUNA 4', 'COMUNA 5', 'COMUNA 6', 'COMUNA 7','COMUNA 8',\n",
    "                             'COMUNA 9', 'COMUNA 10', 'COMUNA 11', 'COMUNA 12', 'COMUNA 13', 'COMUNA 14', 'COMUNA 15']\n",
    "for i in range (1,16):\n",
    "    puntos_verdes.loc[ puntos_verdes['comuna'] == comunas_distintas_puntosVerdes[i-1], 'comuna'] = i\n",
    "    pesajes.loc[ pesajes['COMUNA'] == comunas_distintas_Pesajes[i-1], 'COMUNA'] = i"
   ]
  },
  {
   "cell_type": "code",
   "execution_count": 8,
   "metadata": {},
   "outputs": [
    {
     "data": {
      "text/plain": [
       "<matplotlib.image.AxesImage at 0x23d455de4e0>"
      ]
     },
     "execution_count": 8,
     "metadata": {},
     "output_type": "execute_result"
    },
    {
     "data": {
      "image/png": "[encoded data removed]",
      "text/plain": [
       "<Figure size 720x1080 with 1 Axes>"
      ]
     },
     "metadata": {
      "needs_background": "light"
     },
     "output_type": "display_data"
    }
   ],
   "source": [
    "# Centro los puntos puntos_verdes en cada comuna\n",
    "centros_puntos_verdes = puntos_verdes.groupby('comuna', as_index=False).agg('mean')\n",
    "\n",
    "#Reacoomodo las coordenadas para que queden bien ubicadas en el mapa\n",
    "centros_puntos_verdes.iloc[0,1] -= 0.01 # Longitud COMUNA 1 Si le resto va a la izq\n",
    "centros_puntos_verdes.iloc[0,2] -= 0.01 # Latitud COMUNA 1 Si le resto baja\n",
    "centros_puntos_verdes.iloc[1,1] += 0.003;centros_puntos_verdes.iloc[1,2] -= 0.005 # COMUNA 2\n",
    "centros_puntos_verdes.iloc[2,1] -= 0.002;centros_puntos_verdes.iloc[2,2] += 0.005 # COMUNA 3\n",
    "centros_puntos_verdes.iloc[3,1] -= 0.016 # COMUNA 4\n",
    "centros_puntos_verdes.iloc[4,1] -= 0.004;centros_puntos_verdes.iloc[4,2] += 0.01 # COMUNA 5\n",
    "centros_puntos_verdes.iloc[5,1] -= 0.004;centros_puntos_verdes.iloc[5,2] -= 0.001 # COMUNA 6\n",
    "centros_puntos_verdes.iloc[7,1] += 0.004;centros_puntos_verdes.iloc[7,2] += 0.03 # COMUNA 8\n",
    "centros_puntos_verdes.iloc[8,1] += 0.007;centros_puntos_verdes.iloc[8,2] += 0.018 # COMUNA 9\n",
    "centros_puntos_verdes.iloc[9,1] += 0.007;centros_puntos_verdes.iloc[9,2] += 0.017 # COMUNA 10\n",
    "centros_puntos_verdes.iloc[10,1] += 0.001;centros_puntos_verdes.iloc[10,2] += 0.01 # COMUNA 11\n",
    "centros_puntos_verdes.iloc[11,1] += 0.015 # COMUNA 12\n",
    "centros_puntos_verdes.iloc[12,1] += 0.015;centros_puntos_verdes.iloc[12,2] -= 0.01 # COMUNA 13\n",
    "centros_puntos_verdes.iloc[13,2] -= 0.005 # COMUNA 14\n",
    "centros_puntos_verdes.iloc[14,1] += 0.022 # COMUNA 15\n",
    "\n",
    "BBox = (-58.52,-58.36,-34.68,-34.54)\n",
    "\n",
    "mapa = plt.imread(r'C:\\Users\\leoma\\Desktop\\UTN\\Ciencia de Datos\\DataSets\\TP2019\\map - copia.png')\n",
    "\n",
    "fig, ax = plt.subplots(figsize = (10,15))\n",
    "ax.scatter(centros_puntos_verdes.long, centros_puntos_verdes.lat, zorder=1, alpha= 0.5, c='b', s=200)\n",
    "ax.set_title('Mapa comunas CABA')\n",
    "ax.set_xlim(BBox[0],BBox[1])\n",
    "ax.set_ylim(BBox[2],BBox[3])\n",
    "ax.imshow(mapa, zorder=0, extent = BBox, aspect= 'equal')"
   ]
  },
  {
   "cell_type": "code",
   "execution_count": 9,
   "metadata": {},
   "outputs": [],
   "source": [
    "centros_puntos_verdes = centros_puntos_verdes.rename(columns = {\"comuna\": \"COMUNA\"})"
   ]
  },
  {
   "cell_type": "code",
   "execution_count": 10,
   "metadata": {},
   "outputs": [],
   "source": [
    "pesajes_con_coordenadas = pd.merge(pesajes, centros_puntos_verdes, how='left', on='COMUNA')"
   ]
  },
  {
   "cell_type": "code",
   "execution_count": 11,
   "metadata": {},
   "outputs": [
    {
     "data": {
      "text/html": [
       "<div>\n",
       "<style scoped>\n",
       "    .dataframe tbody tr th:only-of-type {\n",
       "        vertical-align: middle;\n",
       "    }\n",
       "\n",
       "    .dataframe tbody tr th {\n",
       "        vertical-align: top;\n",
       "    }\n",
       "\n",
       "    .dataframe thead th {\n",
       "        text-align: right;\n",
       "    }\n",
       "</style>\n",
       "<table border=\"1\" class=\"dataframe\">\n",
       "  <thead>\n",
       "    <tr style=\"text-align: right;\">\n",
       "      <th></th>\n",
       "      <th>COMUNA</th>\n",
       "      <th>ANIO</th>\n",
       "      <th>MES</th>\n",
       "      <th>VIDRIO</th>\n",
       "      <th>PAPEL_Y_CARTON</th>\n",
       "      <th>METAL</th>\n",
       "      <th>TELGOPOR</th>\n",
       "      <th>PLASTICOS_TODOS_LOS_DEMAS</th>\n",
       "      <th>TETRA_BRICK</th>\n",
       "    </tr>\n",
       "  </thead>\n",
       "  <tbody>\n",
       "    <tr>\n",
       "      <th>1</th>\n",
       "      <td>1</td>\n",
       "      <td>2015</td>\n",
       "      <td>2</td>\n",
       "      <td>-0.136093</td>\n",
       "      <td>-0.067156</td>\n",
       "      <td>-0.271671</td>\n",
       "      <td>-0.630109</td>\n",
       "      <td>0.042966</td>\n",
       "      <td>-0.200000</td>\n",
       "    </tr>\n",
       "    <tr>\n",
       "      <th>2</th>\n",
       "      <td>1</td>\n",
       "      <td>2015</td>\n",
       "      <td>3</td>\n",
       "      <td>-0.088822</td>\n",
       "      <td>-0.007907</td>\n",
       "      <td>0.176431</td>\n",
       "      <td>-0.327413</td>\n",
       "      <td>0.366614</td>\n",
       "      <td>0.000000</td>\n",
       "    </tr>\n",
       "    <tr>\n",
       "      <th>3</th>\n",
       "      <td>1</td>\n",
       "      <td>2015</td>\n",
       "      <td>4</td>\n",
       "      <td>0.148648</td>\n",
       "      <td>-0.061896</td>\n",
       "      <td>-0.080993</td>\n",
       "      <td>4.022458</td>\n",
       "      <td>0.034014</td>\n",
       "      <td>-0.587009</td>\n",
       "    </tr>\n",
       "  </tbody>\n",
       "</table>\n",
       "</div>"
      ],
      "text/plain": [
       "   COMUNA  ANIO  MES    VIDRIO  PAPEL_Y_CARTON     METAL  TELGOPOR  \\\n",
       "1       1  2015    2 -0.136093       -0.067156 -0.271671 -0.630109   \n",
       "2       1  2015    3 -0.088822       -0.007907  0.176431 -0.327413   \n",
       "3       1  2015    4  0.148648       -0.061896 -0.080993  4.022458   \n",
       "\n",
       "   PLASTICOS_TODOS_LOS_DEMAS  TETRA_BRICK  \n",
       "1                   0.042966    -0.200000  \n",
       "2                   0.366614     0.000000  \n",
       "3                   0.034014    -0.587009  "
      ]
     },
     "execution_count": 11,
     "metadata": {},
     "output_type": "execute_result"
    }
   ],
   "source": [
    "## Los 3 conjuntos de Y que vamos a tratar de predecir\n",
    "## MEDIA MENSUAL DE LOS DISTINTOS TIPOS DE RECICLABLES\n",
    "pesajes_mediaSemanal = pesajes.iloc[:,[1,2,3,5,6,7,8,9,10]].groupby([\"COMUNA\",\"ANIO\",\"MES\"], as_index=False).mean()\n",
    "pesajes_mediaSemanal.head(3)\n",
    "\n",
    "## TOTAL MENSUAL DE LOS DISTINTOS TIPOS DE RECICLABLES\n",
    "pesajes_totalMensual = pesajes.iloc[:,[1,2,3,5,6,7,8,9,10]].groupby([\"COMUNA\",\"ANIO\",\"MES\"], as_index=False).sum()\n",
    "pesajes_totalMensual.head(3)\n",
    "\n",
    "## CAMBIO RELATIVO CON RESPECTO AL MES ANTERIOR DE LOS DISTINTOS TIPOS DE RECICLABLES\n",
    "#  Elimino primer mes porque no conozco su cambio relativo con su mes anterior\n",
    "pesajes_cambioRelativo = pd.concat([pesajes_totalMensual.iloc[1:,[0,1,2]],pesajes_totalMensual.pct_change().iloc[1:,3:]], axis=1)\n",
    "pesajes_cambioRelativo.head(3)"
   ]
  },
  {
   "cell_type": "code",
   "execution_count": 12,
   "metadata": {},
   "outputs": [],
   "source": [
    "filename = r'C:\\Users\\leoma\\Desktop\\UTN\\Ciencia de Datos\\DataSets\\TP2019\\pauta-publicitaria-2016.csv'\n",
    "publi_2016 = pd.read_csv(filename, delimiter=',')\n",
    "\n",
    "filename = r'C:\\Users\\leoma\\Desktop\\UTN\\Ciencia de Datos\\DataSets\\TP2019\\pauta-publicitaria-2015.csv'\n",
    "publi_2015 = pd.read_csv(filename, delimiter=';')"
   ]
  },
  {
   "cell_type": "code",
   "execution_count": 13,
   "metadata": {},
   "outputs": [
    {
     "data": {
      "text/html": [
       "<div>\n",
       "<style scoped>\n",
       "    .dataframe tbody tr th:only-of-type {\n",
       "        vertical-align: middle;\n",
       "    }\n",
       "\n",
       "    .dataframe tbody tr th {\n",
       "        vertical-align: top;\n",
       "    }\n",
       "\n",
       "    .dataframe thead th {\n",
       "        text-align: right;\n",
       "    }\n",
       "</style>\n",
       "<table border=\"1\" class=\"dataframe\">\n",
       "  <thead>\n",
       "    <tr style=\"text-align: right;\">\n",
       "      <th></th>\n",
       "      <th>FECHA PUBLICACIÓN</th>\n",
       "      <th>TIPO MEDIO</th>\n",
       "      <th>MEDIO</th>\n",
       "      <th>IMPORTE</th>\n",
       "      <th>RAZON SOCIAL MEDIO</th>\n",
       "      <th>CAMPAÑA</th>\n",
       "    </tr>\n",
       "  </thead>\n",
       "  <tbody>\n",
       "  </tbody>\n",
       "</table>\n",
       "</div>"
      ],
      "text/plain": [
       "Empty DataFrame\n",
       "Columns: [FECHA PUBLICACIÓN, TIPO MEDIO, MEDIO, IMPORTE, RAZON SOCIAL MEDIO, CAMPAÑA]\n",
       "Index: []"
      ]
     },
     "execution_count": 13,
     "metadata": {},
     "output_type": "execute_result"
    }
   ],
   "source": [
    "publi_2016[publi_2016['CAMPAÑA'] == 'PLANETA VERDE']#.head(3)"
   ]
  },
  {
   "cell_type": "code",
   "execution_count": 14,
   "metadata": {},
   "outputs": [
    {
     "data": {
      "text/html": [
       "<div>\n",
       "<style scoped>\n",
       "    .dataframe tbody tr th:only-of-type {\n",
       "        vertical-align: middle;\n",
       "    }\n",
       "\n",
       "    .dataframe tbody tr th {\n",
       "        vertical-align: top;\n",
       "    }\n",
       "\n",
       "    .dataframe thead th {\n",
       "        text-align: right;\n",
       "    }\n",
       "</style>\n",
       "<table border=\"1\" class=\"dataframe\">\n",
       "  <thead>\n",
       "    <tr style=\"text-align: right;\">\n",
       "      <th></th>\n",
       "      <th>FECHA_PUBLICACIÓN</th>\n",
       "      <th>TIPO MEDIO</th>\n",
       "      <th>MEDIO</th>\n",
       "      <th>IMPORTE</th>\n",
       "      <th>RAZON_SOCIAL_MEDIO</th>\n",
       "      <th>CAMPAÑA</th>\n",
       "    </tr>\n",
       "  </thead>\n",
       "  <tbody>\n",
       "    <tr>\n",
       "      <th>8899</th>\n",
       "      <td>03/05/2015</td>\n",
       "      <td>MEDIOS GRAFICOS</td>\n",
       "      <td>TIEMPO ARGENTINO</td>\n",
       "      <td>125672,46</td>\n",
       "      <td>BALKRUG S.A.</td>\n",
       "      <td>SEPAREMOS RECICLABLES</td>\n",
       "    </tr>\n",
       "    <tr>\n",
       "      <th>8942</th>\n",
       "      <td>04/05/2015</td>\n",
       "      <td>MEDIOS GRAFICOS</td>\n",
       "      <td>EL CRONISTA</td>\n",
       "      <td>211750,97</td>\n",
       "      <td>EL CRONISTA COMERCIAL S.A.</td>\n",
       "      <td>SEPAREMOS RECICLABLES</td>\n",
       "    </tr>\n",
       "    <tr>\n",
       "      <th>9133</th>\n",
       "      <td>09/05/2015</td>\n",
       "      <td>MEDIOS GRAFICOS</td>\n",
       "      <td>TIEMPO ARGENTINO</td>\n",
       "      <td>91963,87</td>\n",
       "      <td>BALKRUG S.A.</td>\n",
       "      <td>SEPAREMOS RECICLABLES</td>\n",
       "    </tr>\n",
       "    <tr>\n",
       "      <th>9200</th>\n",
       "      <td>11/05/2015</td>\n",
       "      <td>MEDIOS GRAFICOS</td>\n",
       "      <td>EL CRONISTA</td>\n",
       "      <td>211750,97</td>\n",
       "      <td>EL CRONISTA COMERCIAL S.A.</td>\n",
       "      <td>SEPAREMOS RECICLABLES</td>\n",
       "    </tr>\n",
       "    <tr>\n",
       "      <th>9201</th>\n",
       "      <td>11/05/2015</td>\n",
       "      <td>MEDIOS GRAFICOS</td>\n",
       "      <td>LA RAZON</td>\n",
       "      <td>195549,48</td>\n",
       "      <td>ARTE GRÁFICO EDITORIAL ARGENTINO S.A.</td>\n",
       "      <td>SEPAREMOS RECICLABLES</td>\n",
       "    </tr>\n",
       "    <tr>\n",
       "      <th>9252</th>\n",
       "      <td>12/09/2015</td>\n",
       "      <td>MEDIOS GRAFICOS</td>\n",
       "      <td>CLARIN</td>\n",
       "      <td>599253,76</td>\n",
       "      <td>ARTE GRÁFICO EDITORIAL ARGENTINO S.A.</td>\n",
       "      <td>SEPAREMOS RECICLABLES</td>\n",
       "    </tr>\n",
       "    <tr>\n",
       "      <th>9253</th>\n",
       "      <td>12/09/2015</td>\n",
       "      <td>MEDIOS GRAFICOS</td>\n",
       "      <td>TIEMPO ARGENTINO</td>\n",
       "      <td>150325,56</td>\n",
       "      <td>BALKRUG S.A.</td>\n",
       "      <td>SEPAREMOS RECICLABLES</td>\n",
       "    </tr>\n",
       "    <tr>\n",
       "      <th>9355</th>\n",
       "      <td>16/05/2015</td>\n",
       "      <td>MEDIOS GRAFICOS</td>\n",
       "      <td>TIEMPO ARGENTINO</td>\n",
       "      <td>66550</td>\n",
       "      <td>BALKRUG S.A.</td>\n",
       "      <td>SEPAREMOS RECICLABLES</td>\n",
       "    </tr>\n",
       "    <tr>\n",
       "      <th>9383</th>\n",
       "      <td>17/05/2015</td>\n",
       "      <td>MEDIOS GRAFICOS</td>\n",
       "      <td>TIEMPO ARGENTINO</td>\n",
       "      <td>125672,46</td>\n",
       "      <td>BALKRUG S.A.</td>\n",
       "      <td>SEPAREMOS RECICLABLES</td>\n",
       "    </tr>\n",
       "    <tr>\n",
       "      <th>9489</th>\n",
       "      <td>21/05/2015</td>\n",
       "      <td>MEDIOS GRAFICOS</td>\n",
       "      <td>EL ESTADISTA</td>\n",
       "      <td>9733,61</td>\n",
       "      <td>ESECOM S.A.</td>\n",
       "      <td>SEPAREMOS RECICLABLES</td>\n",
       "    </tr>\n",
       "    <tr>\n",
       "      <th>9630</th>\n",
       "      <td>27/05/2015</td>\n",
       "      <td>MEDIOS GRAFICOS</td>\n",
       "      <td>PRONTO</td>\n",
       "      <td>73261,5</td>\n",
       "      <td>PRODUCCIONES PUBLIEXPRESS S.A.</td>\n",
       "      <td>SEPAREMOS RECICLABLES</td>\n",
       "    </tr>\n",
       "  </tbody>\n",
       "</table>\n",
       "</div>"
      ],
      "text/plain": [
       "     FECHA_PUBLICACIÓN       TIPO MEDIO             MEDIO    IMPORTE  \\\n",
       "8899        03/05/2015  MEDIOS GRAFICOS  TIEMPO ARGENTINO  125672,46   \n",
       "8942        04/05/2015  MEDIOS GRAFICOS       EL CRONISTA  211750,97   \n",
       "9133        09/05/2015  MEDIOS GRAFICOS  TIEMPO ARGENTINO   91963,87   \n",
       "9200        11/05/2015  MEDIOS GRAFICOS       EL CRONISTA  211750,97   \n",
       "9201        11/05/2015  MEDIOS GRAFICOS          LA RAZON  195549,48   \n",
       "9252        12/09/2015  MEDIOS GRAFICOS            CLARIN  599253,76   \n",
       "9253        12/09/2015  MEDIOS GRAFICOS  TIEMPO ARGENTINO  150325,56   \n",
       "9355        16/05/2015  MEDIOS GRAFICOS  TIEMPO ARGENTINO      66550   \n",
       "9383        17/05/2015  MEDIOS GRAFICOS  TIEMPO ARGENTINO  125672,46   \n",
       "9489        21/05/2015  MEDIOS GRAFICOS      EL ESTADISTA    9733,61   \n",
       "9630        27/05/2015  MEDIOS GRAFICOS            PRONTO    73261,5   \n",
       "\n",
       "                         RAZON_SOCIAL_MEDIO                CAMPAÑA  \n",
       "8899                           BALKRUG S.A.  SEPAREMOS RECICLABLES  \n",
       "8942             EL CRONISTA COMERCIAL S.A.  SEPAREMOS RECICLABLES  \n",
       "9133                           BALKRUG S.A.  SEPAREMOS RECICLABLES  \n",
       "9200             EL CRONISTA COMERCIAL S.A.  SEPAREMOS RECICLABLES  \n",
       "9201  ARTE GRÁFICO EDITORIAL ARGENTINO S.A.  SEPAREMOS RECICLABLES  \n",
       "9252  ARTE GRÁFICO EDITORIAL ARGENTINO S.A.  SEPAREMOS RECICLABLES  \n",
       "9253                           BALKRUG S.A.  SEPAREMOS RECICLABLES  \n",
       "9355                           BALKRUG S.A.  SEPAREMOS RECICLABLES  \n",
       "9383                           BALKRUG S.A.  SEPAREMOS RECICLABLES  \n",
       "9489                            ESECOM S.A.  SEPAREMOS RECICLABLES  \n",
       "9630         PRODUCCIONES PUBLIEXPRESS S.A.  SEPAREMOS RECICLABLES  "
      ]
     },
     "execution_count": 14,
     "metadata": {},
     "output_type": "execute_result"
    }
   ],
   "source": [
    "publi_2015[publi_2015['CAMPAÑA'] == 'SEPAREMOS RECICLABLES']#.head(3)"
   ]
  },
  {
   "cell_type": "code",
   "execution_count": 15,
   "metadata": {},
   "outputs": [],
   "source": [
    "## Nos quedamos solo con las campañas que incentivan el reciclaje\n",
    "\n",
    "\n",
    "# Tienen que ver con deporte y salud verde 'ECO BICI', 'ECOBICI', ESTACIONES SALUDABLES\n",
    "# Muestran la ciudad y nombran el reciclaje: BA MÁS LINDA(con y sin acento), PLANETA VERDE\n",
    "\n",
    "# BASURA 0, PUNTOS VERDES, SEPARACIÓN DE RESIDUOS, CIUDAD VERDE ,CIUDAD VERDE - SEPARACIÓN DE RESIDUOS,\n",
    "# SEPAREMOS LOS RECICLABLES (y sin el \"LOS\"), SUMA VERDE RED\n",
    "\n",
    "# Separamos solo los que hacen referencia al reciclado y separacion de residuos\n",
    "publi_2015_verde = publi_2015[publi_2015['CAMPAÑA'].isin(['BASURA 0','PUNTOS VERDES','SEPARACIÓN DE RESIDUOS','CIUDAD VERDE',\n",
    "                                                          'CIUDAD VERDE - SEPARACIÓN DE RESIDUOS','SEPAREMOS LOS RECICLABLES','SUMA VERDE RED'])]\n",
    "\n",
    "publi_2016_verde = publi_2016[publi_2016['CAMPAÑA'].isin(['BASURA: ENTRE TODOS ','CIUDAD LIMPIA','CIUDAD VERDE','CIUDAD VERDE: BASURA: ENTRE TODOS',\n",
    "                                                          'CONSUMO RESPONSABLE','PARTICIPACION CIUDADANA','RECICLAJE','SEPARACION DE RECICLABLES'])]"
   ]
  },
  {
   "cell_type": "code",
   "execution_count": 16,
   "metadata": {},
   "outputs": [
    {
     "data": {
      "text/html": [
       "<div>\n",
       "<style scoped>\n",
       "    .dataframe tbody tr th:only-of-type {\n",
       "        vertical-align: middle;\n",
       "    }\n",
       "\n",
       "    .dataframe tbody tr th {\n",
       "        vertical-align: top;\n",
       "    }\n",
       "\n",
       "    .dataframe thead th {\n",
       "        text-align: right;\n",
       "    }\n",
       "</style>\n",
       "<table border=\"1\" class=\"dataframe\">\n",
       "  <thead>\n",
       "    <tr style=\"text-align: right;\">\n",
       "      <th></th>\n",
       "      <th>FECHA_PUBLICACIÓN</th>\n",
       "      <th>TIPO MEDIO</th>\n",
       "      <th>MEDIO</th>\n",
       "      <th>IMPORTE</th>\n",
       "      <th>RAZON_SOCIAL_MEDIO</th>\n",
       "      <th>CAMPAÑA</th>\n",
       "    </tr>\n",
       "  </thead>\n",
       "  <tbody>\n",
       "    <tr>\n",
       "      <th>417</th>\n",
       "      <td>01/01/2015</td>\n",
       "      <td>Via pública</td>\n",
       "      <td>Grandes Formatos</td>\n",
       "      <td>173635</td>\n",
       "      <td>VAZQUEZ SEBASTIAN ANDRES</td>\n",
       "      <td>CIUDAD VERDE</td>\n",
       "    </tr>\n",
       "    <tr>\n",
       "      <th>567</th>\n",
       "      <td>31/01/2015</td>\n",
       "      <td>WEB</td>\n",
       "      <td>WWW.LANACION.COM.AR</td>\n",
       "      <td>605000</td>\n",
       "      <td>LA NACION SA</td>\n",
       "      <td>CIUDAD VERDE</td>\n",
       "    </tr>\n",
       "  </tbody>\n",
       "</table>\n",
       "</div>"
      ],
      "text/plain": [
       "    FECHA_PUBLICACIÓN   TIPO MEDIO                MEDIO IMPORTE  \\\n",
       "417        01/01/2015  Via pública     Grandes Formatos  173635   \n",
       "567        31/01/2015          WEB  WWW.LANACION.COM.AR  605000   \n",
       "\n",
       "           RAZON_SOCIAL_MEDIO       CAMPAÑA  \n",
       "417  VAZQUEZ SEBASTIAN ANDRES  CIUDAD VERDE  \n",
       "567              LA NACION SA  CIUDAD VERDE  "
      ]
     },
     "execution_count": 16,
     "metadata": {},
     "output_type": "execute_result"
    }
   ],
   "source": [
    " #publi_2015_verde[publi_2015_verde.duplicated()]\n",
    "publi_2015_verde.head(2)"
   ]
  },
  {
   "cell_type": "code",
   "execution_count": 17,
   "metadata": {},
   "outputs": [
    {
     "name": "stderr",
     "output_type": "stream",
     "text": [
      "C:\\Users\\leoma\\Anaconda3\\lib\\site-packages\\ipykernel_launcher.py:2: SettingWithCopyWarning: \n",
      "A value is trying to be set on a copy of a slice from a DataFrame.\n",
      "Try using .loc[row_indexer,col_indexer] = value instead\n",
      "\n",
      "See the caveats in the documentation: http://pandas.pydata.org/pandas-docs/stable/indexing.html#indexing-view-versus-copy\n",
      "  \n",
      "C:\\Users\\leoma\\Anaconda3\\lib\\site-packages\\ipykernel_launcher.py:3: SettingWithCopyWarning: \n",
      "A value is trying to be set on a copy of a slice from a DataFrame.\n",
      "Try using .loc[row_indexer,col_indexer] = value instead\n",
      "\n",
      "See the caveats in the documentation: http://pandas.pydata.org/pandas-docs/stable/indexing.html#indexing-view-versus-copy\n",
      "  This is separate from the ipykernel package so we can avoid doing imports until\n",
      "C:\\Users\\leoma\\Anaconda3\\lib\\site-packages\\ipykernel_launcher.py:5: SettingWithCopyWarning: \n",
      "A value is trying to be set on a copy of a slice from a DataFrame.\n",
      "Try using .loc[row_indexer,col_indexer] = value instead\n",
      "\n",
      "See the caveats in the documentation: http://pandas.pydata.org/pandas-docs/stable/indexing.html#indexing-view-versus-copy\n",
      "  \"\"\"\n",
      "C:\\Users\\leoma\\Anaconda3\\lib\\site-packages\\ipykernel_launcher.py:6: SettingWithCopyWarning: \n",
      "A value is trying to be set on a copy of a slice from a DataFrame.\n",
      "Try using .loc[row_indexer,col_indexer] = value instead\n",
      "\n",
      "See the caveats in the documentation: http://pandas.pydata.org/pandas-docs/stable/indexing.html#indexing-view-versus-copy\n",
      "  \n"
     ]
    },
    {
     "data": {
      "text/html": [
       "<div>\n",
       "<style scoped>\n",
       "    .dataframe tbody tr th:only-of-type {\n",
       "        vertical-align: middle;\n",
       "    }\n",
       "\n",
       "    .dataframe tbody tr th {\n",
       "        vertical-align: top;\n",
       "    }\n",
       "\n",
       "    .dataframe thead th {\n",
       "        text-align: right;\n",
       "    }\n",
       "</style>\n",
       "<table border=\"1\" class=\"dataframe\">\n",
       "  <thead>\n",
       "    <tr style=\"text-align: right;\">\n",
       "      <th></th>\n",
       "      <th>FECHA_PUBLICACIÓN</th>\n",
       "      <th>TIPO MEDIO</th>\n",
       "      <th>MEDIO</th>\n",
       "      <th>IMPORTE</th>\n",
       "      <th>RAZON_SOCIAL_MEDIO</th>\n",
       "      <th>CAMPAÑA</th>\n",
       "      <th>ANIO</th>\n",
       "      <th>MES</th>\n",
       "    </tr>\n",
       "  </thead>\n",
       "  <tbody>\n",
       "    <tr>\n",
       "      <th>417</th>\n",
       "      <td>2015-01-01</td>\n",
       "      <td>Via pública</td>\n",
       "      <td>Grandes Formatos</td>\n",
       "      <td>173635</td>\n",
       "      <td>VAZQUEZ SEBASTIAN ANDRES</td>\n",
       "      <td>CIUDAD VERDE</td>\n",
       "      <td>2015</td>\n",
       "      <td>1</td>\n",
       "    </tr>\n",
       "    <tr>\n",
       "      <th>567</th>\n",
       "      <td>2015-01-31</td>\n",
       "      <td>WEB</td>\n",
       "      <td>WWW.LANACION.COM.AR</td>\n",
       "      <td>605000</td>\n",
       "      <td>LA NACION SA</td>\n",
       "      <td>CIUDAD VERDE</td>\n",
       "      <td>2015</td>\n",
       "      <td>1</td>\n",
       "    </tr>\n",
       "  </tbody>\n",
       "</table>\n",
       "</div>"
      ],
      "text/plain": [
       "    FECHA_PUBLICACIÓN   TIPO MEDIO                MEDIO IMPORTE  \\\n",
       "417        2015-01-01  Via pública     Grandes Formatos  173635   \n",
       "567        2015-01-31          WEB  WWW.LANACION.COM.AR  605000   \n",
       "\n",
       "           RAZON_SOCIAL_MEDIO       CAMPAÑA  ANIO  MES  \n",
       "417  VAZQUEZ SEBASTIAN ANDRES  CIUDAD VERDE  2015    1  \n",
       "567              LA NACION SA  CIUDAD VERDE  2015    1  "
      ]
     },
     "execution_count": 17,
     "metadata": {},
     "output_type": "execute_result"
    }
   ],
   "source": [
    "# Convierto la fecha al formato del DataFrame de pesajes con la columna ANIO y MES\n",
    "publi_2015_verde['FECHA_PUBLICACIÓN'] = pd.to_datetime(publi_2015_verde['FECHA_PUBLICACIÓN'])\n",
    "publi_2015_verde['ANIO'], publi_2015_verde['MES'] = publi_2015_verde['FECHA_PUBLICACIÓN'].dt.year, publi_2015_verde['FECHA_PUBLICACIÓN'].dt.month\n",
    "\n",
    "publi_2016_verde['FECHA PUBLICACIÓN'] = pd.to_datetime(publi_2016_verde['FECHA PUBLICACIÓN'])\n",
    "publi_2016_verde['ANIO'], publi_2016_verde['MES'] = publi_2016_verde['FECHA PUBLICACIÓN'].dt.year, publi_2016_verde['FECHA PUBLICACIÓN'].dt.month\n",
    "publi_2015_verde.head(2)"
   ]
  },
  {
   "cell_type": "code",
   "execution_count": 18,
   "metadata": {},
   "outputs": [],
   "source": [
    "# Nos quedamos solo con las columnas que vamos a usar\n",
    "\n",
    "publi_2015_verde = publi_2015_verde.iloc[:,[1,5,6,7]]\n",
    "publi_2016_verde = publi_2016_verde.iloc[:,[1,5,6,7]]"
   ]
  },
  {
   "cell_type": "code",
   "execution_count": 19,
   "metadata": {},
   "outputs": [
    {
     "name": "stdout",
     "output_type": "stream",
     "text": [
      "Antes :['MEDIOS GRAFICOS' 'Medio Vecinal/Radio' 'Medio Vecinal/Web'\n",
      " 'Medio Vecinal/Web TV' 'RADIO' 'TV' 'Via pública' 'WEB']\n",
      "\n",
      "Despues :['Diario/Revista' 'Radio' 'TV' 'Via pública' 'Web']\n"
     ]
    }
   ],
   "source": [
    "# Unificamos los tipos en Radio, Web, Diario/Revista, Via pública\n",
    "print(f\"Antes :{np.unique(publi_2015_verde['TIPO MEDIO'])}\\n\")\n",
    "\n",
    "publi_2015_verde.loc[ publi_2015_verde['TIPO MEDIO'] == 'MEDIOS GRAFICOS', 'TIPO MEDIO'] = 'Diario/Revista'\n",
    "publi_2015_verde.loc[ publi_2015_verde['TIPO MEDIO'].isin(['Medio Vecinal/Radio', 'RADIO']), 'TIPO MEDIO'] = 'Radio'\n",
    "publi_2015_verde.loc[ publi_2015_verde['TIPO MEDIO'].isin(['Medio Vecinal/Web TV', 'TV']), 'TIPO MEDIO'] = 'TV'\n",
    "publi_2015_verde.loc[ publi_2015_verde['TIPO MEDIO'].isin(['Medio Vecinal/Web', 'WEB']), 'TIPO MEDIO'] = 'Web'\n",
    "\n",
    "print(f\"Despues :{np.unique(publi_2015_verde['TIPO MEDIO'])}\")"
   ]
  },
  {
   "cell_type": "code",
   "execution_count": 20,
   "metadata": {},
   "outputs": [
    {
     "name": "stdout",
     "output_type": "stream",
     "text": [
      "Antes :['MEDIOS GRAFICOS' 'RADIO' 'TV' 'VIA PUBLICA' 'WEB']\n",
      "\n",
      "Despues :['Diario/Revista' 'Radio' 'TV' 'Via pública' 'Web']\n"
     ]
    }
   ],
   "source": [
    "# Unificamos los tipos en Radio, Web, Diario/Revista, Via pública\n",
    "print(f\"Antes :{np.unique(publi_2016_verde['TIPO MEDIO'])}\\n\")\n",
    "      \n",
    "publi_2016_verde.loc[ publi_2016_verde['TIPO MEDIO'].isin(['MEDIOS GRAFICOS','MEDIOS VECINALES/GRAFICA']), 'TIPO MEDIO'] = 'Diario/Revista'\n",
    "publi_2016_verde.loc[ publi_2016_verde['TIPO MEDIO'].isin(['MEDIOS VECINALES/RADIO', 'RADIO']), 'TIPO MEDIO'] = 'Radio'\n",
    "publi_2016_verde.loc[ publi_2016_verde['TIPO MEDIO'].isin(['MEDIOS VECINALES/WEB', 'WEB']), 'TIPO MEDIO'] = 'Web'\n",
    "publi_2016_verde.loc[ publi_2016_verde['TIPO MEDIO'].isin(['CINE', 'TV']), 'TIPO MEDIO'] = 'TV'\n",
    "publi_2016_verde.loc[ publi_2016_verde['TIPO MEDIO'] == 'VIA PUBLICA', 'TIPO MEDIO'] = 'Via pública'\n",
    "      \n",
    "print(f\"Despues :{np.unique(publi_2016_verde['TIPO MEDIO'])}\")"
   ]
  },
  {
   "cell_type": "code",
   "execution_count": 21,
   "metadata": {},
   "outputs": [],
   "source": [
    "ramas = np.unique(publi_2016_verde.CAMPAÑA.astype(str), return_counts = True)[0]\n",
    "veces_por_rama = np.unique(publi_2016_verde.CAMPAÑA.astype(str), return_counts = True)[1]"
   ]
  },
  {
   "cell_type": "code",
   "execution_count": 22,
   "metadata": {},
   "outputs": [
    {
     "data": {
      "text/plain": [
       "array(['BASURA: ENTRE TODOS ', 'CIUDAD LIMPIA', 'CIUDAD VERDE',\n",
       "       'CIUDAD VERDE: BASURA: ENTRE TODOS', 'CONSUMO RESPONSABLE',\n",
       "       'PARTICIPACION CIUDADANA', 'RECICLAJE',\n",
       "       'SEPARACION DE RECICLABLES'], dtype=object)"
      ]
     },
     "execution_count": 22,
     "metadata": {},
     "output_type": "execute_result"
    }
   ],
   "source": [
    "ramas"
   ]
  },
  {
   "cell_type": "code",
   "execution_count": 23,
   "metadata": {},
   "outputs": [
    {
     "data": {
      "text/plain": [
       "array([ 14,   1,  30,  10,   1, 263,   1,  98], dtype=int64)"
      ]
     },
     "execution_count": 23,
     "metadata": {},
     "output_type": "execute_result"
    }
   ],
   "source": [
    "veces_por_rama"
   ]
  },
  {
   "cell_type": "code",
   "execution_count": 24,
   "metadata": {},
   "outputs": [],
   "source": [
    "ramas2 = np.unique(publi_2015_verde['TIPO MEDIO'].astype(str), return_counts = True)[0]\n",
    "veces_por_rama2 = np.unique(publi_2015_verde['TIPO MEDIO'].astype(str), return_counts = True)[1]"
   ]
  },
  {
   "cell_type": "code",
   "execution_count": 25,
   "metadata": {},
   "outputs": [
    {
     "data": {
      "text/plain": [
       "array(['Diario/Revista', 'Radio', 'TV', 'Via pública', 'Web'],\n",
       "      dtype=object)"
      ]
     },
     "execution_count": 25,
     "metadata": {},
     "output_type": "execute_result"
    }
   ],
   "source": [
    "ramas2"
   ]
  },
  {
   "cell_type": "code",
   "execution_count": 26,
   "metadata": {},
   "outputs": [
    {
     "data": {
      "text/plain": [
       "array([ 77, 999, 300,  48, 175], dtype=int64)"
      ]
     },
     "execution_count": 26,
     "metadata": {},
     "output_type": "execute_result"
    }
   ],
   "source": [
    "veces_por_rama2"
   ]
  },
  {
   "cell_type": "code",
   "execution_count": 27,
   "metadata": {},
   "outputs": [],
   "source": [
    "#publi_2016_verde\n",
    "#publi_2015_verde\n",
    "publi2015groupby = publi_2015_verde.groupby([\"ANIO\",\"MES\",\"TIPO MEDIO\"], as_index=False).count()\n",
    "campañas_por_mes_2015 = pd.pivot_table(publi2015groupby,values = 'CAMPAÑA',columns = 'TIPO MEDIO', index = publi2015groupby[\"MES\"], aggfunc = np.sum, fill_value = 0)\n",
    "\n",
    "publi2016groupby = publi_2016_verde.groupby([\"ANIO\",\"MES\",\"TIPO MEDIO\"], as_index=False).count()\n",
    "campañas_por_mes_2016 = pd.pivot_table(publi2016groupby,values = 'CAMPAÑA',columns = 'TIPO MEDIO', index = publi2016groupby[\"MES\"], aggfunc = np.sum, fill_value = 0)"
   ]
  },
  {
   "cell_type": "code",
   "execution_count": 28,
   "metadata": {},
   "outputs": [],
   "source": [
    "pesajes_mediaSemanal['Diario/Revista'] = np.nan\n",
    "pesajes_mediaSemanal['Radio'] = np.nan\n",
    "pesajes_mediaSemanal['TV'] = np.nan\n",
    "pesajes_mediaSemanal['Via pública'] = np.nan\n",
    "pesajes_mediaSemanal['Web'] = np.nan"
   ]
  },
  {
   "cell_type": "code",
   "execution_count": 29,
   "metadata": {},
   "outputs": [],
   "source": [
    "for i in range(0, len(pesajes_mediaSemanal)):\n",
    "    mes = pesajes_mediaSemanal.iloc[i,2]\n",
    "    anio = pesajes_mediaSemanal.iloc[i,1]\n",
    "    if(anio == 2015):\n",
    "        pesajes_mediaSemanal.iloc[i,9:] = campañas_por_mes_2015.iloc[mes-1]\n",
    "    elif(anio == 2016 and np.isin(mes,[3,5,6,7,8,9,10,11,12])):\n",
    "        pesajes_mediaSemanal.iloc[i,9:] = campañas_por_mes_2016.iloc[mes-1]\n",
    "    else:\n",
    "        pesajes_mediaSemanal.iloc[i,9:] = 0"
   ]
  },
  {
   "cell_type": "code",
   "execution_count": 30,
   "metadata": {},
   "outputs": [],
   "source": [
    "## Reordeno las columnas\n",
    "\n",
    "pesajes_mediaSemanal = pesajes_mediaSemanal.iloc[:,[0,1,2,9,10,11,12,13,3,4,5,6,7,8]]"
   ]
  }
 ],
 "metadata": {
  "kernelspec": {
   "display_name": "Python 3",
   "language": "python",
   "name": "python3"
  },
  "language_info": {
   "codemirror_mode": {
    "name": "ipython",
    "version": 3
   },
   "file_extension": ".py",
   "mimetype": "text/x-python",
   "name": "python",
   "nbconvert_exporter": "python",
   "pygments_lexer": "ipython3",
   "version": "3.7.3"
  }
 },
 "nbformat": 4,
 "nbformat_minor": 2
}
