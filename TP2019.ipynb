{
 "cells": [
  {
   "cell_type": "markdown",
   "metadata": {},
   "source": [
    "<h1><center>Trabajo Practico 2019 - Reciclaje en CABA</center></h1>\n",
    "<h3><center>Pesaje Recibido en Puntos Verdes (2015-2016) en kilogramos</center></h3>"
   ]
  },
  {
   "cell_type": "markdown",
   "metadata": {},
   "source": [
    "### Primero importamos las librerías"
   ]
  },
  {
   "cell_type": "code",
   "execution_count": 1,
   "metadata": {},
   "outputs": [],
   "source": [
    "import numpy as np\n",
    "import pandas as pd\n",
    "import matplotlib.pyplot as plt\n",
    "import seaborn as sns\n",
    "import functools as ft\n",
    "\n",
    "\n",
    "## PONER LAS LIBRERIAS A MEDIDA QUE LAS USO\n",
    "from sklearn import svm\n",
    "from sklearn.svm import SVC\n",
    "from sklearn.model_selection import train_test_split\n",
    "from sklearn.metrics import accuracy_score\n",
    "from sklearn.model_selection import cross_val_score\n",
    "from sklearn.metrics import roc_curve, auc\n",
    "from sklearn import metrics\n",
    "from sklearn.model_selection import GridSearchCV\n",
    "from sklearn.metrics import confusion_matrix\n",
    "from sklearn.neighbors import KNeighborsClassifier\n",
    "from sklearn import preprocessing"
   ]
  },
  {
   "cell_type": "markdown",
   "metadata": {},
   "source": [
    "### Importamos el Dataset de reciclaje"
   ]
  },
  {
   "cell_type": "code",
   "execution_count": 2,
   "metadata": {},
   "outputs": [],
   "source": [
    "comas_por_puntos = lambda x : (x.replace('.', '').replace(',', '.'))\n",
    "\n",
    "filename = r'C:\\Users\\leoma\\Desktop\\UTN\\Ciencia de Datos\\DataSets\\TP2019\\pesaje-recibido-en-puntos-verdes-2015-2016.csv'\n",
    "pesajes = pd.read_csv(filename, delimiter=';', decimal='.',\n",
    "          converters = {'VIDRIO':comas_por_puntos,'PAPEL_Y_CARTON':comas_por_puntos,'METAL':comas_por_puntos,'PLASTICO_PET':comas_por_puntos,\n",
    "                        'TELGOPOR':comas_por_puntos,'PLASTICOS_TODOS_LOS_DEMAS':comas_por_puntos,'TETRA_BRICK':comas_por_puntos,'PEQUENIOS_ELECTRODOMESTICOS':comas_por_puntos,\n",
    "                        'APARATOS_ELECTRONICOS_EN_DESUSO':comas_por_puntos,'AVUS':comas_por_puntos})"
   ]
  },
  {
   "cell_type": "markdown",
   "metadata": {},
   "source": [
    "### Hacemos una primera vision superficial del Dataset"
   ]
  },
  {
   "cell_type": "code",
   "execution_count": 3,
   "metadata": {},
   "outputs": [
    {
     "name": "stdout",
     "output_type": "stream",
     "text": [
      "\n",
      "Pesajes tiene: 3080 filas y 3080 columnas\n"
     ]
    },
    {
     "data": {
      "text/html": [
       "<div>\n",
       "<style scoped>\n",
       "    .dataframe tbody tr th:only-of-type {\n",
       "        vertical-align: middle;\n",
       "    }\n",
       "\n",
       "    .dataframe tbody tr th {\n",
       "        vertical-align: top;\n",
       "    }\n",
       "\n",
       "    .dataframe thead th {\n",
       "        text-align: right;\n",
       "    }\n",
       "</style>\n",
       "<table border=\"1\" class=\"dataframe\">\n",
       "  <thead>\n",
       "    <tr style=\"text-align: right;\">\n",
       "      <th></th>\n",
       "      <th>PUNTO</th>\n",
       "      <th>COMUNA</th>\n",
       "      <th>ANIO</th>\n",
       "      <th>MES</th>\n",
       "      <th>SEMANA</th>\n",
       "      <th>VIDRIO</th>\n",
       "      <th>PAPEL_Y_CARTON</th>\n",
       "      <th>METAL</th>\n",
       "      <th>PLASTICO_PET</th>\n",
       "      <th>TELGOPOR</th>\n",
       "      <th>PLASTICOS_TODOS_LOS_DEMAS</th>\n",
       "      <th>TETRA_BRICK</th>\n",
       "      <th>PEQUENIOS_ELECTRODOMESTICOS</th>\n",
       "      <th>APARATOS_ELECTRONICOS_EN_DESUSO</th>\n",
       "      <th>AVUS</th>\n",
       "    </tr>\n",
       "  </thead>\n",
       "  <tbody>\n",
       "    <tr>\n",
       "      <th>0</th>\n",
       "      <td>ESTACION VILLA SOLDATI</td>\n",
       "      <td>COMUNA 8</td>\n",
       "      <td>2015</td>\n",
       "      <td>ABRIL</td>\n",
       "      <td>1</td>\n",
       "      <td>31.2</td>\n",
       "      <td>20.7</td>\n",
       "      <td>0.27</td>\n",
       "      <td></td>\n",
       "      <td>0</td>\n",
       "      <td>13.41</td>\n",
       "      <td>0</td>\n",
       "      <td></td>\n",
       "      <td></td>\n",
       "      <td></td>\n",
       "    </tr>\n",
       "    <tr>\n",
       "      <th>1</th>\n",
       "      <td>ESTACION VILLA SOLDATI</td>\n",
       "      <td>COMUNA 8</td>\n",
       "      <td>2015</td>\n",
       "      <td>ABRIL</td>\n",
       "      <td>2</td>\n",
       "      <td>2.231</td>\n",
       "      <td>44.878</td>\n",
       "      <td>0</td>\n",
       "      <td></td>\n",
       "      <td>0</td>\n",
       "      <td>37.886</td>\n",
       "      <td>0.54</td>\n",
       "      <td></td>\n",
       "      <td></td>\n",
       "      <td></td>\n",
       "    </tr>\n",
       "    <tr>\n",
       "      <th>2</th>\n",
       "      <td>ESTACION VILLA SOLDATI</td>\n",
       "      <td>COMUNA 8</td>\n",
       "      <td>2015</td>\n",
       "      <td>ABRIL</td>\n",
       "      <td>3</td>\n",
       "      <td>38.042</td>\n",
       "      <td>27.763</td>\n",
       "      <td>1.067</td>\n",
       "      <td></td>\n",
       "      <td>0</td>\n",
       "      <td>17.57</td>\n",
       "      <td>0</td>\n",
       "      <td></td>\n",
       "      <td></td>\n",
       "      <td></td>\n",
       "    </tr>\n",
       "  </tbody>\n",
       "</table>\n",
       "</div>"
      ],
      "text/plain": [
       "                    PUNTO    COMUNA  ANIO    MES  SEMANA  VIDRIO  \\\n",
       "0  ESTACION VILLA SOLDATI  COMUNA 8  2015  ABRIL       1    31.2   \n",
       "1  ESTACION VILLA SOLDATI  COMUNA 8  2015  ABRIL       2   2.231   \n",
       "2  ESTACION VILLA SOLDATI  COMUNA 8  2015  ABRIL       3  38.042   \n",
       "\n",
       "  PAPEL_Y_CARTON  METAL PLASTICO_PET TELGOPOR PLASTICOS_TODOS_LOS_DEMAS  \\\n",
       "0           20.7   0.27                     0                     13.41   \n",
       "1         44.878      0                     0                    37.886   \n",
       "2         27.763  1.067                     0                     17.57   \n",
       "\n",
       "  TETRA_BRICK PEQUENIOS_ELECTRODOMESTICOS APARATOS_ELECTRONICOS_EN_DESUSO AVUS  \n",
       "0           0                                                                   \n",
       "1        0.54                                                                   \n",
       "2           0                                                                   "
      ]
     },
     "execution_count": 3,
     "metadata": {},
     "output_type": "execute_result"
    }
   ],
   "source": [
    "print(f'\\nPesajes tiene: {np.shape(pesajes)[0]} filas y {np.shape(pesajes)[0]} columnas')\n",
    "pesajes.head(3)"
   ]
  },
  {
   "cell_type": "code",
   "execution_count": 4,
   "metadata": {},
   "outputs": [
    {
     "name": "stdout",
     "output_type": "stream",
     "text": [
      "Hay 15 comunas distintas\n",
      "Hay 32 puntos distintos distribuidos entre las comunas\n"
     ]
    }
   ],
   "source": [
    "comunas_distintas = np.unique(pesajes.COMUNA)\n",
    "print(f'Hay {len(comunas_distintas)} comunas distintas')\n",
    "puntos_distintos = np.unique(pesajes.PUNTO)\n",
    "print(f'Hay {len(puntos_distintos)} puntos distintos distribuidos entre las comunas')"
   ]
  },
  {
   "cell_type": "code",
   "execution_count": 5,
   "metadata": {},
   "outputs": [
    {
     "data": {
      "text/html": [
       "<div>\n",
       "<style scoped>\n",
       "    .dataframe tbody tr th:only-of-type {\n",
       "        vertical-align: middle;\n",
       "    }\n",
       "\n",
       "    .dataframe tbody tr th {\n",
       "        vertical-align: top;\n",
       "    }\n",
       "\n",
       "    .dataframe thead th {\n",
       "        text-align: right;\n",
       "    }\n",
       "</style>\n",
       "<table border=\"1\" class=\"dataframe\">\n",
       "  <thead>\n",
       "    <tr style=\"text-align: right;\">\n",
       "      <th></th>\n",
       "      <th>Total</th>\n",
       "      <th>Porcentaje</th>\n",
       "    </tr>\n",
       "  </thead>\n",
       "  <tbody>\n",
       "    <tr>\n",
       "      <th>AVUS</th>\n",
       "      <td>2993</td>\n",
       "      <td>0.971753</td>\n",
       "    </tr>\n",
       "    <tr>\n",
       "      <th>APARATOS_ELECTRONICOS_EN_DESUSO</th>\n",
       "      <td>2872</td>\n",
       "      <td>0.932468</td>\n",
       "    </tr>\n",
       "    <tr>\n",
       "      <th>PEQUENIOS_ELECTRODOMESTICOS</th>\n",
       "      <td>2872</td>\n",
       "      <td>0.932468</td>\n",
       "    </tr>\n",
       "    <tr>\n",
       "      <th>PLASTICO_PET</th>\n",
       "      <td>1284</td>\n",
       "      <td>0.416883</td>\n",
       "    </tr>\n",
       "    <tr>\n",
       "      <th>TETRA_BRICK</th>\n",
       "      <td>738</td>\n",
       "      <td>0.239610</td>\n",
       "    </tr>\n",
       "    <tr>\n",
       "      <th>TELGOPOR</th>\n",
       "      <td>371</td>\n",
       "      <td>0.120455</td>\n",
       "    </tr>\n",
       "    <tr>\n",
       "      <th>METAL</th>\n",
       "      <td>371</td>\n",
       "      <td>0.120455</td>\n",
       "    </tr>\n",
       "    <tr>\n",
       "      <th>PAPEL_Y_CARTON</th>\n",
       "      <td>371</td>\n",
       "      <td>0.120455</td>\n",
       "    </tr>\n",
       "    <tr>\n",
       "      <th>VIDRIO</th>\n",
       "      <td>370</td>\n",
       "      <td>0.120130</td>\n",
       "    </tr>\n",
       "    <tr>\n",
       "      <th>PLASTICOS_TODOS_LOS_DEMAS</th>\n",
       "      <td>369</td>\n",
       "      <td>0.119805</td>\n",
       "    </tr>\n",
       "    <tr>\n",
       "      <th>SEMANA</th>\n",
       "      <td>0</td>\n",
       "      <td>0.000000</td>\n",
       "    </tr>\n",
       "    <tr>\n",
       "      <th>MES</th>\n",
       "      <td>0</td>\n",
       "      <td>0.000000</td>\n",
       "    </tr>\n",
       "    <tr>\n",
       "      <th>ANIO</th>\n",
       "      <td>0</td>\n",
       "      <td>0.000000</td>\n",
       "    </tr>\n",
       "    <tr>\n",
       "      <th>COMUNA</th>\n",
       "      <td>0</td>\n",
       "      <td>0.000000</td>\n",
       "    </tr>\n",
       "    <tr>\n",
       "      <th>PUNTO</th>\n",
       "      <td>0</td>\n",
       "      <td>0.000000</td>\n",
       "    </tr>\n",
       "  </tbody>\n",
       "</table>\n",
       "</div>"
      ],
      "text/plain": [
       "                                 Total  Porcentaje\n",
       "AVUS                              2993    0.971753\n",
       "APARATOS_ELECTRONICOS_EN_DESUSO   2872    0.932468\n",
       "PEQUENIOS_ELECTRODOMESTICOS       2872    0.932468\n",
       "PLASTICO_PET                      1284    0.416883\n",
       "TETRA_BRICK                        738    0.239610\n",
       "TELGOPOR                           371    0.120455\n",
       "METAL                              371    0.120455\n",
       "PAPEL_Y_CARTON                     371    0.120455\n",
       "VIDRIO                             370    0.120130\n",
       "PLASTICOS_TODOS_LOS_DEMAS          369    0.119805\n",
       "SEMANA                               0    0.000000\n",
       "MES                                  0    0.000000\n",
       "ANIO                                 0    0.000000\n",
       "COMUNA                               0    0.000000\n",
       "PUNTO                                0    0.000000"
      ]
     },
     "execution_count": 5,
     "metadata": {},
     "output_type": "execute_result"
    }
   ],
   "source": [
    "# Primero reemplazo las cadenas vacias y los espacios ' ' por valor NaN para poder contarlos mas facil\n",
    "pesajes = pesajes.replace('', np.nan).replace(' ', np.nan)\n",
    "total = pesajes.isnull().sum().sort_values(ascending=False)\n",
    "percent = (pesajes.isnull().sum()/pesajes.isnull().count()).sort_values(ascending=False)\n",
    "nulos = pd.concat([total, percent], axis=1, keys=['Total', 'Porcentaje'])\n",
    "nulos"
   ]
  },
  {
   "cell_type": "markdown",
   "metadata": {},
   "source": [
    "<h1><center>Limpieza y transformación del Dataset para su cómodo uso</center></h1>"
   ]
  },
  {
   "cell_type": "markdown",
   "metadata": {},
   "source": [
    "#### Decidimos eliminar la columna de AVUs, y las de eletrodomesticos por tener menos del 90% de los datos\n",
    "(solo estan en 2 comunas)"
   ]
  },
  {
   "cell_type": "code",
   "execution_count": 6,
   "metadata": {
    "scrolled": true
   },
   "outputs": [],
   "source": [
    "pesajes = pesajes.iloc[:,0:12]"
   ]
  },
  {
   "cell_type": "markdown",
   "metadata": {},
   "source": [
    "#### Los PLASTICO_PET son de los materiales mas comunmente reciclables y lamentablemente es la columna de peor condición. Las filas, además de sus registros nulos, tambien poseen en su mayoria valores 0. Por lo tanto decidimos eliminarla también."
   ]
  },
  {
   "cell_type": "code",
   "execution_count": 7,
   "metadata": {},
   "outputs": [
    {
     "name": "stdout",
     "output_type": "stream",
     "text": [
      "Valores vacios en PLASTICO_PET: 2311\n"
     ]
    }
   ],
   "source": [
    "vaciosPET = np.shape(pesajes.loc[(pesajes['PLASTICO_PET'] == \"0\")])[0] + pesajes.isnull().sum()[8]\n",
    "print(\"Valores vacios en PLASTICO_PET: \" + str(vaciosPET))"
   ]
  },
  {
   "cell_type": "code",
   "execution_count": 8,
   "metadata": {
    "scrolled": true
   },
   "outputs": [
    {
     "data": {
      "text/html": [
       "<div>\n",
       "<style scoped>\n",
       "    .dataframe tbody tr th:only-of-type {\n",
       "        vertical-align: middle;\n",
       "    }\n",
       "\n",
       "    .dataframe tbody tr th {\n",
       "        vertical-align: top;\n",
       "    }\n",
       "\n",
       "    .dataframe thead th {\n",
       "        text-align: right;\n",
       "    }\n",
       "</style>\n",
       "<table border=\"1\" class=\"dataframe\">\n",
       "  <thead>\n",
       "    <tr style=\"text-align: right;\">\n",
       "      <th></th>\n",
       "      <th>PUNTO</th>\n",
       "      <th>COMUNA</th>\n",
       "      <th>ANIO</th>\n",
       "      <th>MES</th>\n",
       "      <th>SEMANA</th>\n",
       "      <th>VIDRIO</th>\n",
       "      <th>PAPEL_Y_CARTON</th>\n",
       "      <th>METAL</th>\n",
       "      <th>TELGOPOR</th>\n",
       "      <th>PLASTICOS_TODOS_LOS_DEMAS</th>\n",
       "      <th>TETRA_BRICK</th>\n",
       "    </tr>\n",
       "  </thead>\n",
       "  <tbody>\n",
       "    <tr>\n",
       "      <th>0</th>\n",
       "      <td>ESTACION VILLA SOLDATI</td>\n",
       "      <td>COMUNA 8</td>\n",
       "      <td>2015</td>\n",
       "      <td>ABRIL</td>\n",
       "      <td>1</td>\n",
       "      <td>31.2</td>\n",
       "      <td>20.7</td>\n",
       "      <td>0.27</td>\n",
       "      <td>0</td>\n",
       "      <td>13.41</td>\n",
       "      <td>0</td>\n",
       "    </tr>\n",
       "    <tr>\n",
       "      <th>1</th>\n",
       "      <td>ESTACION VILLA SOLDATI</td>\n",
       "      <td>COMUNA 8</td>\n",
       "      <td>2015</td>\n",
       "      <td>ABRIL</td>\n",
       "      <td>2</td>\n",
       "      <td>2.231</td>\n",
       "      <td>44.878</td>\n",
       "      <td>0</td>\n",
       "      <td>0</td>\n",
       "      <td>37.886</td>\n",
       "      <td>0.54</td>\n",
       "    </tr>\n",
       "    <tr>\n",
       "      <th>2</th>\n",
       "      <td>ESTACION VILLA SOLDATI</td>\n",
       "      <td>COMUNA 8</td>\n",
       "      <td>2015</td>\n",
       "      <td>ABRIL</td>\n",
       "      <td>3</td>\n",
       "      <td>38.042</td>\n",
       "      <td>27.763</td>\n",
       "      <td>1.067</td>\n",
       "      <td>0</td>\n",
       "      <td>17.57</td>\n",
       "      <td>0</td>\n",
       "    </tr>\n",
       "  </tbody>\n",
       "</table>\n",
       "</div>"
      ],
      "text/plain": [
       "                    PUNTO    COMUNA  ANIO    MES  SEMANA  VIDRIO  \\\n",
       "0  ESTACION VILLA SOLDATI  COMUNA 8  2015  ABRIL       1    31.2   \n",
       "1  ESTACION VILLA SOLDATI  COMUNA 8  2015  ABRIL       2   2.231   \n",
       "2  ESTACION VILLA SOLDATI  COMUNA 8  2015  ABRIL       3  38.042   \n",
       "\n",
       "  PAPEL_Y_CARTON  METAL TELGOPOR PLASTICOS_TODOS_LOS_DEMAS TETRA_BRICK  \n",
       "0           20.7   0.27        0                     13.41           0  \n",
       "1         44.878      0        0                    37.886        0.54  \n",
       "2         27.763  1.067        0                     17.57           0  "
      ]
     },
     "execution_count": 8,
     "metadata": {},
     "output_type": "execute_result"
    }
   ],
   "source": [
    "pesajes = pesajes.iloc[:,[0,1,2,3,4,5,6,7,9,10,11]]\n",
    "pesajes.head(3)"
   ]
  },
  {
   "cell_type": "markdown",
   "metadata": {},
   "source": [
    "#### Transformamos los meses a valores numéricos y separamos los años"
   ]
  },
  {
   "cell_type": "code",
   "execution_count": 9,
   "metadata": {},
   "outputs": [],
   "source": [
    "meses = [\"ENERO\",\"FEBRERO\",\"MARZO\",\"ABRIL\",\"MAYO\",\"JUNIO\",\"JULIO\",\"AGOSTO\",\"SEPTIEMBRE\",\"OCTUBRE\",\"NOVIEMBRE\",\"DICIEMBRE\"]\n",
    "for i in range (1,13):\n",
    "    pesajes.loc[ pesajes['MES'] == meses[i-1], 'MES'] = i\n",
    "\n",
    "# Separo 2015 y 2016\n",
    "pesajes_2015 = pesajes.loc[pesajes['ANIO'] == 2015]\n",
    "pesajes_2016 = pesajes.loc[pesajes['ANIO'] == 2016]"
   ]
  },
  {
   "cell_type": "markdown",
   "metadata": {},
   "source": [
    "#### El Dataset termina a la tercera semana de Septiembre de 2016 para todas las comunas excepto 2. Decidimos eliminar los siguientes meses para todas las comunas."
   ]
  },
  {
   "cell_type": "code",
   "execution_count": 10,
   "metadata": {},
   "outputs": [],
   "source": [
    "# Almacenamos los meses 10,11 y 12 de 2016 para las 2 comunas especiales (PLAZA ARENALES y PARQUE CENTENARIO)\n",
    "pesajes_extra_Arenales_Centenario = pesajes.loc[((pesajes['ANIO'] == 2016) & (pesajes['MES'].isin([10,11,12])) & (pesajes['PUNTO'].isin(['PLAZA ARENALES','PARQUE CENTENARIO'])))]\n",
    "pesajes_extra_Arenales_Centenario.head()\n",
    "\n",
    "# Eliminamos los ultimos 3 meses\n",
    "pesajes = pesajes.loc[~((pesajes['ANIO'] == 2016) & (pesajes['MES'].isin([10,11,12])))]"
   ]
  },
  {
   "cell_type": "markdown",
   "metadata": {},
   "source": [
    "##   Criterios elegidos para limpiar el Dataframe de datos inutilizables faltantes\n",
    "Dada la gran cantidad de datos faltantes o vacios, expresados de diversas formas, elegimos un criterio para seleccionar los puntos mas prometedores para trabajar.\n",
    "### 1) Semana\n",
    "    Si una semana esta llena de 0s, \"\", \" \", NaNs es considerada VACIA\n",
    "### 2) Mes\n",
    "    Si un mes tiene 3 o más semanas VACIAS -> Esta VACIO\n",
    "    Si un mes no esta cargado en el dataframe -> Esta VACIO\n",
    "### 3) Punto\n",
    "    Si un Punto tiene 4 o mas meses VACIOS en 2015 y 2016 -> Esta VACIO"
   ]
  },
  {
   "cell_type": "markdown",
   "metadata": {},
   "source": [
    "#### Cuento los meses que aparecen tienen 3 o mas semanas vacias"
   ]
  },
  {
   "cell_type": "code",
   "execution_count": 11,
   "metadata": {},
   "outputs": [],
   "source": [
    "#Primero filtro las que tienen meses con todas las filas llenas de cero (si tienen esas 3 vacias, el resto tambien)\n",
    "filtro1 = pesajes_2015['VIDRIO'].isin([0,np.nan,\" \"])\n",
    "filtro2 = pesajes_2015['PAPEL_Y_CARTON'].isin([0,np.nan,\" \"])\n",
    "sin_vacio = (filtro1 & filtro2)\n",
    "pesajes_2015_semanas_vacias = pesajes_2015[sin_vacio].drop_duplicates().sort_values(by=['PUNTO', 'MES','SEMANA']).copy().reset_index(drop=True)\n",
    "\n",
    "filtro1 = pesajes_2016['VIDRIO'].isin([0,np.nan,\" \"])\n",
    "filtro2 = pesajes_2016['PAPEL_Y_CARTON'].isin([0,np.nan,\" \"])\n",
    "sin_vacio = (filtro1 & filtro2)\n",
    "pesajes_2016_semanas_vacias = pesajes_2016[sin_vacio].drop_duplicates().sort_values(by=['PUNTO', 'MES','SEMANA']).copy().reset_index(drop=True)"
   ]
  },
  {
   "cell_type": "markdown",
   "metadata": {},
   "source": [
    "#### Junto todas las tablas en una que muestre el estado de los Puntos segun datos vacios y faltantes"
   ]
  },
  {
   "cell_type": "code",
   "execution_count": 12,
   "metadata": {
    "scrolled": false
   },
   "outputs": [],
   "source": [
    "## Creo un df de los meses que tengo cargados de cada año, ordenados\n",
    "meses_cargados_2015 = pesajes_2015.iloc[:,[0,3]].drop_duplicates().sort_values(by=['PUNTO', 'MES']).copy().reset_index(drop=True)\n",
    "meses_cargados_2016 = pesajes_2016.iloc[:,[0,3]].drop_duplicates().sort_values(by=['PUNTO', 'MES']).copy().reset_index(drop=True)\n",
    "    \n",
    "## Los comparo y obtengo un df de todos los meses faltantes con PUNTO y MES\n",
    "meses_faltantes = pd.merge(meses_cargados_2015, meses_cargados_2016,how='outer', indicator=True).query('_merge == \"left_only\"')\n",
    "meses_faltantes_por_barrio = meses_faltantes.groupby([\"PUNTO\"])[\"MES\"].count().sort_values(ascending=False)\n",
    "\n",
    "Tabla_Faltantes = pd.concat([meses_faltantes_por_barrio], axis=1, keys=['Meses faltantes por barrio en 2016'])\n",
    "Tabla_de_Vacios_Completa = (meses_faltantes.iloc[:,0:2]).groupby([\"PUNTO\"])[\"MES\"].count().sort_values(ascending=False)\n",
    "Tabla_de_Vacios_Completa = Tabla_de_Vacios_Completa.to_frame().rename(columns = {\"MES\":\"Faltantes_2016\"})\n",
    "\n",
    "Agregar_a_tabla_vacias_filtrada_2016 = pesajes_2016_semanas_vacias.groupby([\"PUNTO\", \"MES\"]).filter(lambda x: x[\"SEMANA\"].count() >= 3).iloc[:,[0,3]].drop_duplicates().sort_values(by=['PUNTO', 'MES'])\n",
    "Agregar_a_tabla_vacias_filtrada_2016 = Agregar_a_tabla_vacias_filtrada_2016.groupby([\"PUNTO\"]).size().to_frame().rename(columns = {0: \"Vacios_2016\"})\n",
    "Agregar_a_tabla_vacias_filtrada_2015 = pesajes_2015_semanas_vacias.groupby([\"PUNTO\", \"MES\"]).filter(lambda x: x[\"SEMANA\"].count() >= 3).iloc[:,[0,3]].drop_duplicates().sort_values(by=['PUNTO', 'MES'])\n",
    "Agregar_a_tabla_vacias_filtrada_2015 = Agregar_a_tabla_vacias_filtrada_2015.groupby([\"PUNTO\"]).size().to_frame().rename(columns = {0: \"Vacios_2015\"})\n",
    "\n",
    "Tabla_de_Vacios_Completa = pd.merge(Tabla_de_Vacios_Completa, Agregar_a_tabla_vacias_filtrada_2016, how='left', on='PUNTO').fillna(0)\n",
    "Tabla_de_Vacios_Completa = pd.merge(Tabla_de_Vacios_Completa, Agregar_a_tabla_vacias_filtrada_2015, how='left', on='PUNTO').fillna(0)\n",
    "Tabla_de_Vacios_Completa['Meses_No_Utilizables'] = Tabla_de_Vacios_Completa.Faltantes_2016 + Tabla_de_Vacios_Completa.Vacios_2016 + Tabla_de_Vacios_Completa.Vacios_2015"
   ]
  },
  {
   "cell_type": "markdown",
   "metadata": {},
   "source": [
    "#### Decidimos borrar estos 4 Puntos por no cumplir el criterio de meses Vacios que definimos."
   ]
  },
  {
   "cell_type": "code",
   "execution_count": 13,
   "metadata": {},
   "outputs": [
    {
     "data": {
      "text/html": [
       "<div>\n",
       "<style scoped>\n",
       "    .dataframe tbody tr th:only-of-type {\n",
       "        vertical-align: middle;\n",
       "    }\n",
       "\n",
       "    .dataframe tbody tr th {\n",
       "        vertical-align: top;\n",
       "    }\n",
       "\n",
       "    .dataframe thead th {\n",
       "        text-align: right;\n",
       "    }\n",
       "</style>\n",
       "<table border=\"1\" class=\"dataframe\">\n",
       "  <thead>\n",
       "    <tr style=\"text-align: right;\">\n",
       "      <th></th>\n",
       "      <th>Faltantes_2016</th>\n",
       "      <th>Vacios_2016</th>\n",
       "      <th>Vacios_2015</th>\n",
       "      <th>Meses_No_Utilizables</th>\n",
       "    </tr>\n",
       "    <tr>\n",
       "      <th>PUNTO</th>\n",
       "      <th></th>\n",
       "      <th></th>\n",
       "      <th></th>\n",
       "      <th></th>\n",
       "    </tr>\n",
       "  </thead>\n",
       "  <tbody>\n",
       "    <tr>\n",
       "      <th>PLAZA 25 DE AGOSTO</th>\n",
       "      <td>4</td>\n",
       "      <td>8.0</td>\n",
       "      <td>11.0</td>\n",
       "      <td>23.0</td>\n",
       "    </tr>\n",
       "    <tr>\n",
       "      <th>ESTACION VILLA SOLDATI</th>\n",
       "      <td>4</td>\n",
       "      <td>8.0</td>\n",
       "      <td>4.0</td>\n",
       "      <td>16.0</td>\n",
       "    </tr>\n",
       "    <tr>\n",
       "      <th>PLAZA VELAZCO IBARRA</th>\n",
       "      <td>3</td>\n",
       "      <td>0.0</td>\n",
       "      <td>4.0</td>\n",
       "      <td>7.0</td>\n",
       "    </tr>\n",
       "    <tr>\n",
       "      <th>PLAZA M BELGRANO</th>\n",
       "      <td>3</td>\n",
       "      <td>2.0</td>\n",
       "      <td>0.0</td>\n",
       "      <td>5.0</td>\n",
       "    </tr>\n",
       "  </tbody>\n",
       "</table>\n",
       "</div>"
      ],
      "text/plain": [
       "                        Faltantes_2016  Vacios_2016  Vacios_2015  \\\n",
       "PUNTO                                                              \n",
       "PLAZA 25 DE AGOSTO                   4          8.0         11.0   \n",
       "ESTACION VILLA SOLDATI               4          8.0          4.0   \n",
       "PLAZA VELAZCO IBARRA                 3          0.0          4.0   \n",
       "PLAZA M BELGRANO                     3          2.0          0.0   \n",
       "\n",
       "                        Meses_No_Utilizables  \n",
       "PUNTO                                         \n",
       "PLAZA 25 DE AGOSTO                      23.0  \n",
       "ESTACION VILLA SOLDATI                  16.0  \n",
       "PLAZA VELAZCO IBARRA                     7.0  \n",
       "PLAZA M BELGRANO                         5.0  "
      ]
     },
     "execution_count": 13,
     "metadata": {},
     "output_type": "execute_result"
    }
   ],
   "source": [
    "pesajes_criterio_de_limpieza = pesajes.loc[~pesajes['PUNTO'].isin(['ESTACION VILLA SOLDATI','PLAZA 25 DE AGOSTO','PLAZA VELAZCO IBARRA','PLAZA SAN MARTIN'])]\n",
    "\n",
    "# Muestro la tabla ordenada por Meses No utilizables. Solo muestro los que no cumplen el criterio de meses faltantes\n",
    "Tabla_de_Vacios_Completa.sort_values(by=['Meses_No_Utilizables'],ascending=False).iloc[0:4,:]"
   ]
  },
  {
   "cell_type": "markdown",
   "metadata": {},
   "source": [
    "#### Observando el Dataset pudimos ver que existen muchos nulos en ciertas quintas semanas de 2015 y 2016, estas semanas al corroborar con el calendario tenian muy pocos días. Asuminos esta como la razon de porque no se cargaron en casi ninguna comuna y las eliminamos\n",
    "\n",
    "Podemos ver el estado actual de nulos para compararlo cuando eliminemos las quintas semanas del mes 6 y 11 para 2015 y el mes 1 y 9 para 2016"
   ]
  },
  {
   "cell_type": "code",
   "execution_count": 14,
   "metadata": {
    "scrolled": true
   },
   "outputs": [
    {
     "name": "stdout",
     "output_type": "stream",
     "text": [
      "Nulos restantes\n"
     ]
    },
    {
     "data": {
      "text/plain": [
       "VIDRIO                        38\n",
       "PAPEL_Y_CARTON                39\n",
       "METAL                         39\n",
       "TELGOPOR                      39\n",
       "PLASTICOS_TODOS_LOS_DEMAS     37\n",
       "TETRA_BRICK                  377\n",
       "dtype: int64"
      ]
     },
     "execution_count": 14,
     "metadata": {},
     "output_type": "execute_result"
    }
   ],
   "source": [
    "pesajes_con_nulo = pesajes_criterio_de_limpieza.replace('', np.nan).replace(' ', np.nan)\n",
    "pesajes_1 = pesajes_con_nulo.loc[~((pesajes_con_nulo['ANIO'] == 2015) & (pesajes_con_nulo['MES'] == 6) & (pesajes_con_nulo['SEMANA'] == 5))]\n",
    "pesajes_2 = pesajes_1.loc[~((pesajes_1['ANIO'] == 2015) & (pesajes_1['MES'] == 11) & (pesajes_1['SEMANA'] == 5))]\n",
    "pesajes_3 = pesajes_2.loc[~((pesajes_2['ANIO'] == 2016) & (pesajes_2['MES'] == 1) & (pesajes_2['SEMANA'] == 5))]\n",
    "pesajes_sin_quinta_vacias = pesajes_3.loc[~((pesajes_3['ANIO'] == 2016) & (pesajes_3['MES'] == 9) & (pesajes_3['SEMANA'] == 5))]\n",
    "\n",
    "pesajes_ordenado = pesajes_sin_quinta_vacias.sort_values(by=['ANIO','MES'])\n",
    "print(\"Nulos restantes\"); pesajes_ordenado.isnull().sum()[pesajes_ordenado.isnull().sum() > 0]"
   ]
  },
  {
   "cell_type": "markdown",
   "metadata": {},
   "source": [
    "#### Como termina en la tercera semana de Septiembre de 2016, la cuarta esta vacia. Decidimos llenar esta cuarta semana con una media da las primeras 3 semanas"
   ]
  },
  {
   "cell_type": "code",
   "execution_count": 15,
   "metadata": {
    "scrolled": true
   },
   "outputs": [
    {
     "name": "stdout",
     "output_type": "stream",
     "text": [
      "Nulos restantes\n"
     ]
    },
    {
     "data": {
      "text/plain": [
       "VIDRIO                        12\n",
       "PAPEL_Y_CARTON                13\n",
       "METAL                         13\n",
       "TELGOPOR                      13\n",
       "PLASTICOS_TODOS_LOS_DEMAS     10\n",
       "TETRA_BRICK                  351\n",
       "dtype: int64"
      ]
     },
     "execution_count": 15,
     "metadata": {},
     "output_type": "execute_result"
    }
   ],
   "source": [
    "for indice in range(0, len(pesajes_ordenado)):\n",
    "    if ((pesajes_ordenado.iloc[indice,2:5] == [2016, 9, 4]).all()):\n",
    "        media = round((pesajes_ordenado.iloc[indice-3,5:12].apply(lambda x: float(x)) +\n",
    "                 pesajes_ordenado.iloc[indice-2,5:12].apply(lambda x: float(x)) +\n",
    "                 pesajes_ordenado.iloc[indice-1,5:12].apply(lambda x: float(x)))\n",
    "                 /3, 3)\n",
    "        pesajes_ordenado.iloc[indice,5:12] = media.apply(lambda x: str(x))\n",
    "        \n",
    "#Relleno a mano 5 excepciones con las medias de los meses cercanos a ellas\n",
    "for i in range (0,5):\n",
    "    pesajes_ordenado.iloc[1996+i,5:12] = pesajes_ordenado.iloc[1967,5:12]\n",
    "    \n",
    "pesajes_ordenado.loc[2038,'PLASTICOS_TODOS_LOS_DEMAS'] = pesajes_ordenado.loc[2037,'PLASTICOS_TODOS_LOS_DEMAS']\n",
    "print(\"Nulos restantes\"); pesajes_ordenado.isnull().sum()[pesajes_ordenado.isnull().sum() > 0]"
   ]
  },
  {
   "cell_type": "markdown",
   "metadata": {},
   "source": [
    "#### El resto de nulos (sin incluir tetra_brick) que quedan los rellenamos haciendo un promedio de sus semanas llenas en ese mes."
   ]
  },
  {
   "cell_type": "code",
   "execution_count": 16,
   "metadata": {},
   "outputs": [
    {
     "name": "stdout",
     "output_type": "stream",
     "text": [
      "Nulos restantes\n"
     ]
    },
    {
     "data": {
      "text/plain": [
       "TETRA_BRICK    352\n",
       "dtype: int64"
      ]
     },
     "execution_count": 16,
     "metadata": {},
     "output_type": "execute_result"
    }
   ],
   "source": [
    "pesajes_ordenado = pesajes_ordenado.replace('nan', np.nan)\n",
    "VidriosNulos = pesajes_ordenado[pesajes_ordenado.iloc[:,5].isnull()] #VIDRIOS\n",
    "PyCNulos = pesajes_ordenado[pesajes_ordenado.iloc[:,6].isnull()]     #PAPEL Y CARTON\n",
    "MetalNulos = pesajes_ordenado[pesajes_ordenado.iloc[:,7].isnull()]   #METAL\n",
    "TelgoporNulos = pesajes_ordenado[pesajes_ordenado.iloc[:,8].isnull()]#TELGOPOR\n",
    "Plasticos = pesajes_ordenado[pesajes_ordenado.iloc[:,9].isnull()]    #PLASTICOS_TODOS_LOS_DEMAS\n",
    "matsNulos = [VidriosNulos, PyCNulos, MetalNulos, TelgoporNulos, Plasticos]\n",
    "material = ['VIDRIO','PAPEL_Y_CARTON','METAL','TELGOPOR','PLASTICOS_TODOS_LOS_DEMAS']\n",
    "\n",
    "# Relleno con la media de las semanas restantes del mes con algunas nulas mas las del siguiente y el anterior\n",
    "for m in range(0, 5):\n",
    "    for i in range(0, len(matsNulos[m])):\n",
    "        mesActual = matsNulos[m]['MES'].iloc[i]\n",
    "        medias = (pesajes_ordenado.loc[(pesajes_ordenado['MES'].isin([mesActual, mesActual-1, mesActual+1])) & (pesajes_ordenado['ANIO'] == matsNulos[m]['ANIO'].iloc[i]) & (pesajes_ordenado['PUNTO'] == matsNulos[m]['PUNTO'].iloc[i]) & \n",
    "                                       (pesajes_ordenado[material[m]].notnull())].iloc[:,[5,6,7,9,10]]).apply(lambda x: x.apply(lambda x: float(x))).mean().apply(lambda x: str(round(x,2)))\n",
    "        count = 0\n",
    "        for c in ['VIDRIO','PAPEL_Y_CARTON','METAL','TELGOPOR','PLASTICOS_TODOS_LOS_DEMAS']:\n",
    "            pesajes_ordenado.loc[matsNulos[m].index[i], c] = medias[count]\n",
    "            count+=1\n",
    "\n",
    "pesajes_ordenado = pesajes_ordenado.replace('nan', np.nan)\n",
    "print(\"Nulos restantes\"); pesajes_ordenado.isnull().sum()[pesajes_ordenado.isnull().sum() > 0]"
   ]
  },
  {
   "cell_type": "markdown",
   "metadata": {},
   "source": [
    "#### Por ultimo llenamos los Tetra Bricks que faltan usando las medias de las semanas(o mes en peor caso) anterior y siguiente"
   ]
  },
  {
   "cell_type": "code",
   "execution_count": 17,
   "metadata": {},
   "outputs": [
    {
     "name": "stdout",
     "output_type": "stream",
     "text": [
      "\n",
      "Verificamos que no hayan quedado pesajes nulos  ->  False\n"
     ]
    }
   ],
   "source": [
    "# En meses 1,2 y 3 de 2015 estan casi todos los vacios, los relleno con la media en el mismo punto de los meses 4 y 5\n",
    "EneFebMar_TetraNulos = pesajes_ordenado.loc[(pesajes_ordenado['ANIO'] == 2015) & (pesajes_ordenado['MES'].isin([1,2,3])) & (pesajes_ordenado['TETRA_BRICK'].isnull())]\n",
    "\n",
    "# Relleno con la media del los meses 4 y 5 que sean de mismo Punto\n",
    "for i in range(0, len(EneFebMar_TetraNulos)):\n",
    "    media = (pesajes_ordenado.loc[(pesajes_ordenado['MES'].isin([4,5])) & (pesajes_ordenado['ANIO'] == 2016) & (pesajes_ordenado['PUNTO'] == EneFebMar_TetraNulos['PUNTO'].iloc[i]) & \n",
    "                              (pesajes_ordenado['TETRA_BRICK'].notnull())].iloc[:,10]).apply(lambda x: float(x)).mean()\n",
    "    media = str(round(media,2))\n",
    "    pesajes_ordenado.loc[EneFebMar_TetraNulos.index[i],'TETRA_BRICK'] = media\n",
    "\n",
    "# Los pocos Nulos faltantes los lleno las semanas con las medias de sus respectivos meses en sus respectivos puntos\n",
    "TetraUltimosNulos = pesajes_ordenado[pesajes_ordenado.iloc[:,10].isnull()]\n",
    "for i in range(0, len(TetraUltimosNulos)):\n",
    "    mesActual = TetraUltimosNulos['MES'].iloc[i]\n",
    "    media = (pesajes_ordenado.loc[(pesajes_ordenado['MES'].isin([mesActual, mesActual-1, mesActual+1])) & (pesajes_ordenado['ANIO'] == TetraUltimosNulos['ANIO'].iloc[i]) & (pesajes_ordenado['PUNTO'] == TetraUltimosNulos['PUNTO'].iloc[i]) & \n",
    "                                  (pesajes_ordenado['TETRA_BRICK'].notnull())].iloc[:,10]).apply(lambda x: float(x)).mean()\n",
    "    media = str(round(media,2))\n",
    "    pesajes_ordenado.loc[TetraUltimosNulos.index[i],'TETRA_BRICK'] = media\n",
    "\n",
    "print(f\"\\nVerificamos que no hayan quedado pesajes nulos  ->  {pesajes_ordenado.isnull().sum().any()}\")"
   ]
  },
  {
   "cell_type": "code",
   "execution_count": 68,
   "metadata": {},
   "outputs": [],
   "source": [
    "## Genero el archivo csv ya limpio y lo vuelvo a importar cambiando sus tipos a numeros flotantes para\n",
    "## que sea mas facil su manejo\n",
    "import os\n",
    "export_csv = pesajes_ordenado.to_csv(r'pesajes_nulos.csv', index = None, header=True, sep=';')\n",
    "filename = os.getcwd() + \"\\\\pesajes_nulos.csv\"\n",
    "pesajes = pd.read_csv(filename, delimiter=';', decimal='.')"
   ]
  },
  {
   "cell_type": "markdown",
   "metadata": {},
   "source": [
    "<h1><center>Análisis Exploratorio de Datos</center></h1>"
   ]
  },
  {
   "cell_type": "markdown",
   "metadata": {},
   "source": [
    "### Importamos un Dataset relacionado para obtener de este las coordenadas de las comunas"
   ]
  },
  {
   "cell_type": "code",
   "execution_count": 69,
   "metadata": {
    "scrolled": true
   },
   "outputs": [],
   "source": [
    "filename = r'C:\\Users\\leoma\\Desktop\\UTN\\Ciencia de Datos\\DataSets\\TP2019\\puntos-verdes.csv'\n",
    "puntos_verdes = pd.read_csv(filename, delimiter=',')"
   ]
  },
  {
   "cell_type": "markdown",
   "metadata": {},
   "source": [
    "#### Lo exploramos un poco y nos quedamos solo con las columnas de Longitud, Latitud y Comuna"
   ]
  },
  {
   "cell_type": "code",
   "execution_count": 70,
   "metadata": {},
   "outputs": [
    {
     "data": {
      "text/plain": [
       "long      0\n",
       "lat       0\n",
       "comuna    0\n",
       "dtype: int64"
      ]
     },
     "execution_count": 70,
     "metadata": {},
     "output_type": "execute_result"
    }
   ],
   "source": [
    "puntos_verdes = puntos_verdes.iloc[:,[0,1,14]]\n",
    "puntos_verdes = puntos_verdes.dropna()\n",
    "puntos_verdes.drop_duplicates().isnull().sum()"
   ]
  },
  {
   "cell_type": "code",
   "execution_count": 71,
   "metadata": {},
   "outputs": [
    {
     "data": {
      "text/html": [
       "<div>\n",
       "<style scoped>\n",
       "    .dataframe tbody tr th:only-of-type {\n",
       "        vertical-align: middle;\n",
       "    }\n",
       "\n",
       "    .dataframe tbody tr th {\n",
       "        vertical-align: top;\n",
       "    }\n",
       "\n",
       "    .dataframe thead th {\n",
       "        text-align: right;\n",
       "    }\n",
       "</style>\n",
       "<table border=\"1\" class=\"dataframe\">\n",
       "  <thead>\n",
       "    <tr style=\"text-align: right;\">\n",
       "      <th></th>\n",
       "      <th>long</th>\n",
       "      <th>lat</th>\n",
       "      <th>comuna</th>\n",
       "    </tr>\n",
       "  </thead>\n",
       "  <tbody>\n",
       "    <tr>\n",
       "      <th>0</th>\n",
       "      <td>-58.465309</td>\n",
       "      <td>-34.567226</td>\n",
       "      <td>Comuna 13</td>\n",
       "    </tr>\n",
       "    <tr>\n",
       "      <th>1</th>\n",
       "      <td>-58.424945</td>\n",
       "      <td>-34.589219</td>\n",
       "      <td>Comuna 14</td>\n",
       "    </tr>\n",
       "    <tr>\n",
       "      <th>2</th>\n",
       "      <td>-58.468392</td>\n",
       "      <td>-34.547087</td>\n",
       "      <td>Comuna 13</td>\n",
       "    </tr>\n",
       "    <tr>\n",
       "      <th>3</th>\n",
       "      <td>-58.503884</td>\n",
       "      <td>-34.576313</td>\n",
       "      <td>Comuna 12</td>\n",
       "    </tr>\n",
       "    <tr>\n",
       "      <th>4</th>\n",
       "      <td>-58.483452</td>\n",
       "      <td>-34.629626</td>\n",
       "      <td>Comuna 10</td>\n",
       "    </tr>\n",
       "  </tbody>\n",
       "</table>\n",
       "</div>"
      ],
      "text/plain": [
       "        long        lat     comuna\n",
       "0 -58.465309 -34.567226  Comuna 13\n",
       "1 -58.424945 -34.589219  Comuna 14\n",
       "2 -58.468392 -34.547087  Comuna 13\n",
       "3 -58.503884 -34.576313  Comuna 12\n",
       "4 -58.483452 -34.629626  Comuna 10"
      ]
     },
     "execution_count": 71,
     "metadata": {},
     "output_type": "execute_result"
    }
   ],
   "source": [
    "puntos_verdes.head()"
   ]
  },
  {
   "cell_type": "markdown",
   "metadata": {},
   "source": [
    "#### Traducimos las Comunas de ambos dataFrames a numeros para mergearlos"
   ]
  },
  {
   "cell_type": "code",
   "execution_count": 72,
   "metadata": {},
   "outputs": [],
   "source": [
    "# Traducimos las comunas a solamente un numero y mergeamos los Dataframes\n",
    "\n",
    "comunas_distintas_puntosVerdes = ['Comuna 1', 'Comuna 2', 'Comuna 3', 'Comuna 4', 'Comuna 5', 'Comuna 6', 'Comuna 7',\n",
    "                                  'Comuna 8', 'Comuna 9', 'Comuna 10', 'Comuna 11', 'Comuna 12', 'Comuna 13', 'Comuna 14', 'Comuna 15']\n",
    "comunas_distintas_Pesajes = ['COMUNA 1', 'COMUNA 2', 'COMUNA 3', 'COMUNA 4', 'COMUNA 5', 'COMUNA 6', 'COMUNA 7','COMUNA 8',\n",
    "                             'COMUNA 9', 'COMUNA 10', 'COMUNA 11', 'COMUNA 12', 'COMUNA 13', 'COMUNA 14', 'COMUNA 15']\n",
    "for i in range (1,16):\n",
    "    puntos_verdes.loc[ puntos_verdes['comuna'] == comunas_distintas_puntosVerdes[i-1], 'comuna'] = i\n",
    "    pesajes.loc[ pesajes['COMUNA'] == comunas_distintas_Pesajes[i-1], 'COMUNA'] = i"
   ]
  },
  {
   "cell_type": "markdown",
   "metadata": {},
   "source": [
    "#### Centro los puntos de las comunas mediante la media de las coordenadas de sus puntos verdes y los alineo al mapa de CABA"
   ]
  },
  {
   "cell_type": "code",
   "execution_count": 73,
   "metadata": {},
   "outputs": [
    {
     "data": {
      "text/plain": [
       "<matplotlib.image.AxesImage at 0x2e88d2c9a90>"
      ]
     },
     "execution_count": 73,
     "metadata": {},
     "output_type": "execute_result"
    },
    {
     "data": {
      "image/png": "[encoded data removed]",
      "text/plain": [
       "<Figure size 720x1080 with 1 Axes>"
      ]
     },
     "metadata": {
      "needs_background": "light"
     },
     "output_type": "display_data"
    }
   ],
   "source": [
    "# Centro los puntos puntos_verdes en cada comuna\n",
    "centros_puntos_verdes = puntos_verdes.groupby('comuna', as_index=False).agg('mean')\n",
    "\n",
    "#Reacoomodo las coordenadas para que queden bien ubicadas en el mapa\n",
    "centros_puntos_verdes.iloc[0,1] -= 0.01 # Longitud COMUNA 1 Si le resto va a la izq\n",
    "centros_puntos_verdes.iloc[0,2] -= 0.01 # Latitud COMUNA 1 Si le resto baja\n",
    "centros_puntos_verdes.iloc[1,1] += 0.003;centros_puntos_verdes.iloc[1,2] -= 0.005 # COMUNA 2\n",
    "centros_puntos_verdes.iloc[2,1] -= 0.002;centros_puntos_verdes.iloc[2,2] += 0.005 # COMUNA 3\n",
    "centros_puntos_verdes.iloc[3,1] -= 0.016 # COMUNA 4\n",
    "centros_puntos_verdes.iloc[4,1] -= 0.004;centros_puntos_verdes.iloc[4,2] += 0.01 # COMUNA 5\n",
    "centros_puntos_verdes.iloc[5,1] -= 0.004;centros_puntos_verdes.iloc[5,2] -= 0.001 # COMUNA 6\n",
    "centros_puntos_verdes.iloc[7,1] += 0.004;centros_puntos_verdes.iloc[7,2] += 0.03 # COMUNA 8\n",
    "centros_puntos_verdes.iloc[8,1] += 0.007;centros_puntos_verdes.iloc[8,2] += 0.018 # COMUNA 9\n",
    "centros_puntos_verdes.iloc[9,1] += 0.007;centros_puntos_verdes.iloc[9,2] += 0.017 # COMUNA 10\n",
    "centros_puntos_verdes.iloc[10,1] += 0.001;centros_puntos_verdes.iloc[10,2] += 0.01 # COMUNA 11\n",
    "centros_puntos_verdes.iloc[11,1] += 0.015 # COMUNA 12\n",
    "centros_puntos_verdes.iloc[12,1] += 0.015;centros_puntos_verdes.iloc[12,2] -= 0.01 # COMUNA 13\n",
    "centros_puntos_verdes.iloc[13,2] -= 0.005 # COMUNA 14\n",
    "centros_puntos_verdes.iloc[14,1] += 0.022 # COMUNA 15\n",
    "\n",
    "BBox = (-58.52,-58.36,-34.68,-34.54)\n",
    "\n",
    "mapa = plt.imread(r'C:\\Users\\leoma\\Desktop\\UTN\\Ciencia de Datos\\DataSets\\TP2019\\map - copia.png')\n",
    "\n",
    "fig, ax = plt.subplots(figsize = (10,15))\n",
    "ax.scatter(centros_puntos_verdes.long, centros_puntos_verdes.lat, zorder=1, alpha= 0.5, c='b', s=200)\n",
    "ax.set_title('Mapa comunas CABA')\n",
    "ax.set_xlim(BBox[0],BBox[1])\n",
    "ax.set_ylim(BBox[2],BBox[3])\n",
    "ax.imshow(mapa, zorder=0, extent = BBox, aspect= 'equal')"
   ]
  },
  {
   "cell_type": "markdown",
   "metadata": {},
   "source": [
    "#### Agrego las coordenadas a nuestro Dataset original de pesajes"
   ]
  },
  {
   "cell_type": "code",
   "execution_count": 74,
   "metadata": {},
   "outputs": [],
   "source": [
    "centros_puntos_verdes = centros_puntos_verdes.rename(columns = {\"comuna\": \"COMUNA\"})\n",
    "pesajes_con_coordenadas = pd.merge(pesajes, centros_puntos_verdes, how='left', on='COMUNA')"
   ]
  },
  {
   "cell_type": "code",
   "execution_count": null,
   "metadata": {},
   "outputs": [],
   "source": []
  },
  {
   "cell_type": "code",
   "execution_count": null,
   "metadata": {},
   "outputs": [],
   "source": []
  },
  {
   "cell_type": "code",
   "execution_count": null,
   "metadata": {},
   "outputs": [],
   "source": []
  },
  {
   "cell_type": "code",
   "execution_count": null,
   "metadata": {},
   "outputs": [],
   "source": []
  },
  {
   "cell_type": "code",
   "execution_count": 75,
   "metadata": {},
   "outputs": [
    {
     "data": {
      "text/html": [
       "<div>\n",
       "<style scoped>\n",
       "    .dataframe tbody tr th:only-of-type {\n",
       "        vertical-align: middle;\n",
       "    }\n",
       "\n",
       "    .dataframe tbody tr th {\n",
       "        vertical-align: top;\n",
       "    }\n",
       "\n",
       "    .dataframe thead th {\n",
       "        text-align: right;\n",
       "    }\n",
       "</style>\n",
       "<table border=\"1\" class=\"dataframe\">\n",
       "  <thead>\n",
       "    <tr style=\"text-align: right;\">\n",
       "      <th></th>\n",
       "      <th>COMUNA</th>\n",
       "      <th>ANIO</th>\n",
       "      <th>MES</th>\n",
       "      <th>VIDRIO</th>\n",
       "      <th>PAPEL_Y_CARTON</th>\n",
       "      <th>METAL</th>\n",
       "      <th>TELGOPOR</th>\n",
       "      <th>PLASTICOS_TODOS_LOS_DEMAS</th>\n",
       "      <th>TETRA_BRICK</th>\n",
       "    </tr>\n",
       "  </thead>\n",
       "  <tbody>\n",
       "    <tr>\n",
       "      <th>1</th>\n",
       "      <td>1</td>\n",
       "      <td>2015</td>\n",
       "      <td>2</td>\n",
       "      <td>-0.136093</td>\n",
       "      <td>-0.067156</td>\n",
       "      <td>-0.271671</td>\n",
       "      <td>-0.630109</td>\n",
       "      <td>0.042966</td>\n",
       "      <td>-0.200000</td>\n",
       "    </tr>\n",
       "    <tr>\n",
       "      <th>2</th>\n",
       "      <td>1</td>\n",
       "      <td>2015</td>\n",
       "      <td>3</td>\n",
       "      <td>-0.088822</td>\n",
       "      <td>-0.007907</td>\n",
       "      <td>0.176431</td>\n",
       "      <td>-0.327413</td>\n",
       "      <td>0.366614</td>\n",
       "      <td>0.000000</td>\n",
       "    </tr>\n",
       "    <tr>\n",
       "      <th>3</th>\n",
       "      <td>1</td>\n",
       "      <td>2015</td>\n",
       "      <td>4</td>\n",
       "      <td>0.148648</td>\n",
       "      <td>-0.061896</td>\n",
       "      <td>-0.080993</td>\n",
       "      <td>4.022458</td>\n",
       "      <td>0.034014</td>\n",
       "      <td>-0.587009</td>\n",
       "    </tr>\n",
       "  </tbody>\n",
       "</table>\n",
       "</div>"
      ],
      "text/plain": [
       "   COMUNA  ANIO  MES    VIDRIO  PAPEL_Y_CARTON     METAL  TELGOPOR  \\\n",
       "1       1  2015    2 -0.136093       -0.067156 -0.271671 -0.630109   \n",
       "2       1  2015    3 -0.088822       -0.007907  0.176431 -0.327413   \n",
       "3       1  2015    4  0.148648       -0.061896 -0.080993  4.022458   \n",
       "\n",
       "   PLASTICOS_TODOS_LOS_DEMAS  TETRA_BRICK  \n",
       "1                   0.042966    -0.200000  \n",
       "2                   0.366614     0.000000  \n",
       "3                   0.034014    -0.587009  "
      ]
     },
     "execution_count": 75,
     "metadata": {},
     "output_type": "execute_result"
    }
   ],
   "source": [
    "## Los 3 conjuntos de Y que vamos a tratar de predecir\n",
    "## MEDIA MENSUAL DE LOS DISTINTOS TIPOS DE RECICLABLES\n",
    "pesajes_mediaSemanal = pesajes.iloc[:,[1,2,3,5,6,7,8,9,10]].groupby([\"COMUNA\",\"ANIO\",\"MES\"], as_index=False).mean()\n",
    "pesajes_mediaSemanal.head(3)\n",
    "\n",
    "## TOTAL MENSUAL DE LOS DISTINTOS TIPOS DE RECICLABLES\n",
    "pesajes_totalMensual = pesajes.iloc[:,[1,2,3,5,6,7,8,9,10]].groupby([\"COMUNA\",\"ANIO\",\"MES\"], as_index=False).sum()\n",
    "pesajes_totalMensual.head(3)\n",
    "\n",
    "## CAMBIO RELATIVO CON RESPECTO AL MES ANTERIOR DE LOS DISTINTOS TIPOS DE RECICLABLES\n",
    "#  Elimino primer mes porque no conozco su cambio relativo con su mes anterior\n",
    "pesajes_cambioRelativo = pd.concat([pesajes_totalMensual.iloc[1:,[0,1,2]],pesajes_totalMensual.pct_change().iloc[1:,3:]], axis=1)\n",
    "pesajes_cambioRelativo.head(3)"
   ]
  },
  {
   "cell_type": "code",
   "execution_count": 76,
   "metadata": {},
   "outputs": [],
   "source": [
    "mediaSemanal_por_comuna = pd.pivot_table(pesajes_mediaSemanal,values = 'VIDRIO',columns = 'COMUNA', index = pesajes_mediaSemanal.MES.values, aggfunc = np.mean)"
   ]
  },
  {
   "cell_type": "code",
   "execution_count": 77,
   "metadata": {},
   "outputs": [
    {
     "data": {
      "image/png": "[encoded data removed]",
      "text/plain": [
       "<Figure size 864x576 with 2 Axes>"
      ]
     },
     "metadata": {
      "needs_background": "light"
     },
     "output_type": "display_data"
    }
   ],
   "source": [
    "plt.figure(figsize=(12,8))\n",
    "sns.heatmap(mediaSemanal_por_comuna)\n",
    "plt.title(\"Medias Semanales de Vidrio\")\n",
    "\n",
    "\n",
    "plt.show()"
   ]
  },
  {
   "cell_type": "code",
   "execution_count": 78,
   "metadata": {},
   "outputs": [],
   "source": [
    "\n",
    "scaler = preprocessing.StandardScaler().fit(pesajes_totalMensual.iloc[:,3:])\n",
    "\n",
    "pesajes_totalMensual_scal = pesajes_totalMensual.copy()\n",
    "pesajes_totalMensual_scal.iloc[:,3:] = scaler.transform(pesajes_totalMensual.iloc[:,3:])  "
   ]
  },
  {
   "cell_type": "code",
   "execution_count": 79,
   "metadata": {},
   "outputs": [],
   "source": [
    "totalMensual_por_comuna = pd.pivot_table(pesajes_totalMensual_scal,values = 'TELGOPOR',columns = 'COMUNA', index = pesajes_mediaSemanal.MES.values, aggfunc = np.sum)"
   ]
  },
  {
   "cell_type": "code",
   "execution_count": 80,
   "metadata": {},
   "outputs": [
    {
     "data": {
      "image/png": "[encoded data removed]",
      "text/plain": [
       "<Figure size 864x576 with 2 Axes>"
      ]
     },
     "metadata": {
      "needs_background": "light"
     },
     "output_type": "display_data"
    }
   ],
   "source": [
    "plt.figure(figsize=(12,8))\n",
    "sns.heatmap(totalMensual_por_comuna)\n",
    "plt.title(\"Total mensual de Vidrio\")\n",
    "\n",
    "\n",
    "plt.show()"
   ]
  },
  {
   "cell_type": "code",
   "execution_count": 81,
   "metadata": {},
   "outputs": [],
   "source": [
    "## Grafico de distribuciones de los pesajes en las distintas comunas (capaz un grafico\n",
    "#  que este superpueste de todos los vidrios y por cada comuna o algo asi)\n",
    "#  Ver como son las distribuciones en general de cada material (Capaz son distintas)"
   ]
  },
  {
   "cell_type": "markdown",
   "metadata": {},
   "source": [
    "<h1><center>Modelo Clasificador de Comunas</center></h1>"
   ]
  },
  {
   "cell_type": "markdown",
   "metadata": {},
   "source": [
    "### Decidimos crear un modelo supervisado clasificador que prediga como salida la comuna a la que pertenece una lista semanal de pesajes  que ingresa como entrada. \n",
    "### Nuestra hipotesis es que las comunas tienen combinaciones distintas de distribuciones para cada pesaje, lo que les otorga una cualidad unica para, en caso de detectarla, poder predecir de que comuna es una lista semanal de pesajes."
   ]
  },
  {
   "cell_type": "code",
   "execution_count": 82,
   "metadata": {},
   "outputs": [],
   "source": [
    "## y un modelo clasificador de puntos?\n",
    "# np.shape(np.unique(pesajes['PUNTO']))"
   ]
  },
  {
   "cell_type": "markdown",
   "metadata": {},
   "source": [
    "#### Realizamos un Filtrado de Outliers, para que nuestro modelo no este sesgado por anomalías."
   ]
  },
  {
   "cell_type": "code",
   "execution_count": 83,
   "metadata": {},
   "outputs": [],
   "source": [
    "## Obtengo los percentiles 97 de cada pesaje y filtro mi dataset por cada uno\n",
    "\n",
    "Elegimos filtrar por \n",
    "quantile = 0.97\n",
    "pesajes = pesajes.loc[(pesajes['VIDRIO'] < pesajes['VIDRIO'].quantile(quantile)) &\n",
    "                      (pesajes['PAPEL_Y_CARTON'] < pesajes['PAPEL_Y_CARTON'].quantile(quantile)) &\n",
    "                      (pesajes['METAL'] < pesajes['METAL'].quantile(quantile)) &\n",
    "                      (pesajes['TELGOPOR'] < pesajes['TELGOPOR'].quantile(quantile)) &\n",
    "                      (pesajes['TETRA_BRICK'] < pesajes['TETRA_BRICK'].quantile(quantile)) &\n",
    "                      (pesajes['PLASTICOS_TODOS_LOS_DEMAS'] < pesajes['PLASTICOS_TODOS_LOS_DEMAS'].quantile(quantile))]\n",
    "\n",
    "# Agregar filtro con PCA si me queda tiempo"
   ]
  },
  {
   "cell_type": "code",
   "execution_count": 87,
   "metadata": {},
   "outputs": [],
   "source": [
    "# Guardamos feature matrix en \"x\"\n",
    "x = pesajes.iloc[:,2:] \n",
    "\n",
    "# Guardamos target vector in \"y\"\n",
    "y = pesajes.iloc[:,1]"
   ]
  },
  {
   "cell_type": "code",
   "execution_count": 85,
   "metadata": {},
   "outputs": [],
   "source": []
  },
  {
   "cell_type": "code",
   "execution_count": 86,
   "metadata": {},
   "outputs": [
    {
     "data": {
      "text/plain": [
       "(2301, 11)"
      ]
     },
     "execution_count": 86,
     "metadata": {},
     "output_type": "execute_result"
    }
   ],
   "source": [
    "np.shape(pesajes)"
   ]
  },
  {
   "cell_type": "markdown",
   "metadata": {},
   "source": [
    "### Train, Test y escalo"
   ]
  },
  {
   "cell_type": "code",
   "execution_count": 37,
   "metadata": {},
   "outputs": [],
   "source": [
    "xtrain, xtest, ytrain, ytest = train_test_split(x, y, test_size=0.3, random_state=4)"
   ]
  },
  {
   "cell_type": "markdown",
   "metadata": {},
   "source": [
    "### Feature Selection"
   ]
  },
  {
   "cell_type": "code",
   "execution_count": 38,
   "metadata": {},
   "outputs": [],
   "source": [
    "# umbral para definir con que % de features nos quedamos\n",
    "thresh = 0.2"
   ]
  },
  {
   "cell_type": "code",
   "execution_count": 39,
   "metadata": {},
   "outputs": [],
   "source": [
    "#xtrain_scal_red_var = xtrain.iloc[:,\n",
    "#               (np.std(xtrain)>np.quantile(np.std(xtrain), thresh)).values]\n",
    "#xtest_scal_red_var = xtest.iloc[:,\n",
    "#               (np.std(xtrain)>np.quantile(np.std(xtrain), thresh)).values]\n",
    "# El test lo estoy filtrando por el desvio y cuantil del train\n",
    "Features_Seleccionadas = (np.std(xtrain)>np.quantile(np.std(xtrain), thresh)).values\n",
    "Features_Seleccionadas[0:2] = True # Dejo las fechas\n",
    "xtrain = xtrain.iloc[:,Features_Seleccionadas]\n",
    "xtest = xtest.iloc[:,Features_Seleccionadas]\n",
    "# El test lo estoy filtrando por el desvio y cuantil del train"
   ]
  },
  {
   "cell_type": "code",
   "execution_count": null,
   "metadata": {},
   "outputs": [],
   "source": []
  },
  {
   "cell_type": "code",
   "execution_count": 40,
   "metadata": {},
   "outputs": [
    {
     "name": "stdout",
     "output_type": "stream",
     "text": [
      "La cantidad de Features seleccionadas son 8\n"
     ]
    }
   ],
   "source": [
    "print(\"La cantidad de Features seleccionadas son \" + str(np.shape(xtrain)[1]))"
   ]
  },
  {
   "cell_type": "code",
   "execution_count": 41,
   "metadata": {},
   "outputs": [
    {
     "name": "stdout",
     "output_type": "stream",
     "text": [
      "La cantidad de Features seleccionadas son 8\n"
     ]
    }
   ],
   "source": [
    "print(\"La cantidad de Features seleccionadas son \" + str(np.shape(xtest)[1]))"
   ]
  },
  {
   "cell_type": "code",
   "execution_count": 42,
   "metadata": {},
   "outputs": [
    {
     "data": {
      "text/html": [
       "<div>\n",
       "<style scoped>\n",
       "    .dataframe tbody tr th:only-of-type {\n",
       "        vertical-align: middle;\n",
       "    }\n",
       "\n",
       "    .dataframe tbody tr th {\n",
       "        vertical-align: top;\n",
       "    }\n",
       "\n",
       "    .dataframe thead th {\n",
       "        text-align: right;\n",
       "    }\n",
       "</style>\n",
       "<table border=\"1\" class=\"dataframe\">\n",
       "  <thead>\n",
       "    <tr style=\"text-align: right;\">\n",
       "      <th></th>\n",
       "      <th>ANIO</th>\n",
       "      <th>MES</th>\n",
       "      <th>VIDRIO</th>\n",
       "      <th>PAPEL_Y_CARTON</th>\n",
       "      <th>METAL</th>\n",
       "      <th>TELGOPOR</th>\n",
       "      <th>PLASTICOS_TODOS_LOS_DEMAS</th>\n",
       "      <th>TETRA_BRICK</th>\n",
       "    </tr>\n",
       "  </thead>\n",
       "  <tbody>\n",
       "    <tr>\n",
       "      <th>1235</th>\n",
       "      <td>2015</td>\n",
       "      <td>11</td>\n",
       "      <td>265.379</td>\n",
       "      <td>340.922</td>\n",
       "      <td>34.232</td>\n",
       "      <td>4.329</td>\n",
       "      <td>160.611</td>\n",
       "      <td>15.691</td>\n",
       "    </tr>\n",
       "    <tr>\n",
       "      <th>47</th>\n",
       "      <td>2015</td>\n",
       "      <td>1</td>\n",
       "      <td>331.990</td>\n",
       "      <td>357.710</td>\n",
       "      <td>9.450</td>\n",
       "      <td>0.640</td>\n",
       "      <td>128.670</td>\n",
       "      <td>19.340</td>\n",
       "    </tr>\n",
       "    <tr>\n",
       "      <th>777</th>\n",
       "      <td>2015</td>\n",
       "      <td>7</td>\n",
       "      <td>217.594</td>\n",
       "      <td>325.507</td>\n",
       "      <td>17.507</td>\n",
       "      <td>0.855</td>\n",
       "      <td>117.765</td>\n",
       "      <td>3.215</td>\n",
       "    </tr>\n",
       "    <tr>\n",
       "      <th>1425</th>\n",
       "      <td>2015</td>\n",
       "      <td>12</td>\n",
       "      <td>249.050</td>\n",
       "      <td>342.530</td>\n",
       "      <td>21.030</td>\n",
       "      <td>3.230</td>\n",
       "      <td>145.240</td>\n",
       "      <td>3.150</td>\n",
       "    </tr>\n",
       "    <tr>\n",
       "      <th>767</th>\n",
       "      <td>2015</td>\n",
       "      <td>7</td>\n",
       "      <td>288.134</td>\n",
       "      <td>345.647</td>\n",
       "      <td>9.883</td>\n",
       "      <td>0.000</td>\n",
       "      <td>163.658</td>\n",
       "      <td>5.771</td>\n",
       "    </tr>\n",
       "  </tbody>\n",
       "</table>\n",
       "</div>"
      ],
      "text/plain": [
       "      ANIO  MES   VIDRIO  PAPEL_Y_CARTON   METAL  TELGOPOR  \\\n",
       "1235  2015   11  265.379         340.922  34.232     4.329   \n",
       "47    2015    1  331.990         357.710   9.450     0.640   \n",
       "777   2015    7  217.594         325.507  17.507     0.855   \n",
       "1425  2015   12  249.050         342.530  21.030     3.230   \n",
       "767   2015    7  288.134         345.647   9.883     0.000   \n",
       "\n",
       "      PLASTICOS_TODOS_LOS_DEMAS  TETRA_BRICK  \n",
       "1235                    160.611       15.691  \n",
       "47                      128.670       19.340  \n",
       "777                     117.765        3.215  \n",
       "1425                    145.240        3.150  \n",
       "767                     163.658        5.771  "
      ]
     },
     "execution_count": 42,
     "metadata": {},
     "output_type": "execute_result"
    }
   ],
   "source": [
    "xtrain.head()"
   ]
  },
  {
   "cell_type": "code",
   "execution_count": 43,
   "metadata": {},
   "outputs": [
    {
     "data": {
      "text/plain": [
       "(691, 8)"
      ]
     },
     "execution_count": 43,
     "metadata": {},
     "output_type": "execute_result"
    }
   ],
   "source": [
    "np.shape(xtest)"
   ]
  },
  {
   "cell_type": "code",
   "execution_count": null,
   "metadata": {},
   "outputs": [],
   "source": []
  },
  {
   "cell_type": "code",
   "execution_count": 44,
   "metadata": {},
   "outputs": [
    {
     "data": {
      "text/plain": [
       "StandardScaler(copy=True, with_mean=True, with_std=True)"
      ]
     },
     "execution_count": 44,
     "metadata": {},
     "output_type": "execute_result"
    }
   ],
   "source": [
    "scaler = preprocessing.StandardScaler().fit(xtrain)\n",
    "scaler"
   ]
  },
  {
   "cell_type": "code",
   "execution_count": 45,
   "metadata": {},
   "outputs": [
    {
     "name": "stdout",
     "output_type": "stream",
     "text": [
      "[ 4.57218804e-15 -9.70927962e-17 -2.42731990e-17  3.75131258e-17\n",
      "  4.30297619e-17 -7.72329061e-17  5.51663615e-18 -1.02609432e-16]\n",
      "[1. 1. 1. 1. 1. 1. 1. 1.]\n"
     ]
    }
   ],
   "source": [
    "# xtrain_scal tendra el dataset de train pre-procesado con el standard scaler\n",
    "xtrain_scal = scaler.transform(xtrain)\n",
    "# para cada feature imprimimos la media y el desvio standard obtenido. Ver que media = 0 y stdev = 1.\n",
    "print(xtrain_scal.mean(axis=0))\n",
    "print(xtrain_scal.std(axis=0))\n",
    "# veo que me queda media casi 0 y desvío 1"
   ]
  },
  {
   "cell_type": "code",
   "execution_count": 46,
   "metadata": {},
   "outputs": [
    {
     "name": "stdout",
     "output_type": "stream",
     "text": [
      "[-1.84989999e-02  3.76817379e-02 -2.24675333e-02 -4.45582478e-02\n",
      "  7.04905125e-05 -1.04789315e-02 -2.88102056e-02  3.16263238e-03]\n",
      "[0.99592209 0.99016541 1.03960794 1.04537448 1.01883919 1.00933408\n",
      " 1.01919079 0.98985724]\n"
     ]
    }
   ],
   "source": [
    "# utilizando el scaler \"fiteado\" o \"ajustado\" a los datos de train, aplicamos el scaler a los datos de test.\n",
    "# obtenemos \"xtest_scal\" \n",
    "xtest_scal = scaler.transform(xtest) \n",
    "# obviamente la media y stdev de las features en test no seran 0 y 1 ya que el scaler se ajusto con train unicamente.\n",
    "print(xtest_scal.mean(axis=0))\n",
    "print(xtest_scal.std(axis=0))"
   ]
  },
  {
   "cell_type": "code",
   "execution_count": null,
   "metadata": {},
   "outputs": [],
   "source": []
  },
  {
   "cell_type": "code",
   "execution_count": null,
   "metadata": {},
   "outputs": [],
   "source": []
  },
  {
   "cell_type": "code",
   "execution_count": null,
   "metadata": {},
   "outputs": [],
   "source": []
  },
  {
   "cell_type": "code",
   "execution_count": null,
   "metadata": {},
   "outputs": [],
   "source": []
  },
  {
   "cell_type": "markdown",
   "metadata": {},
   "source": [
    "## KNN"
   ]
  },
  {
   "cell_type": "code",
   "execution_count": 47,
   "metadata": {},
   "outputs": [],
   "source": [
    "# defino modelo KNN llamado \"neigh\" y le asigno el hiper-parametro n_neighbors = 5\n",
    "neigh = KNeighborsClassifier(n_neighbors=10)"
   ]
  },
  {
   "cell_type": "code",
   "execution_count": 48,
   "metadata": {},
   "outputs": [
    {
     "data": {
      "text/plain": [
       "KNeighborsClassifier(algorithm='auto', leaf_size=30, metric='minkowski',\n",
       "                     metric_params=None, n_jobs=None, n_neighbors=10, p=2,\n",
       "                     weights='uniform')"
      ]
     },
     "execution_count": 48,
     "metadata": {},
     "output_type": "execute_result"
    }
   ],
   "source": [
    "# Ajusto mi modelo a las muestras de training utilizando tanto Xtrain como Ytrain\n",
    "neigh.fit(xtrain_scal, ytrain) "
   ]
  },
  {
   "cell_type": "code",
   "execution_count": 49,
   "metadata": {},
   "outputs": [],
   "source": [
    "# Genero predicciones con mi modelo entrenado para las muestras de Test, utilizando solo Xtest\n",
    "ypred = neigh.predict(xtest_scal)"
   ]
  },
  {
   "cell_type": "code",
   "execution_count": 50,
   "metadata": {},
   "outputs": [
    {
     "name": "stdout",
     "output_type": "stream",
     "text": [
      "El accuracy es 0.4211287988422576\n"
     ]
    }
   ],
   "source": [
    "# Computo el accuracy (comparar ytest vs ypred)\n",
    "test_acc = accuracy_score(ytest, ypred)\n",
    "print(\"El accuracy es \" + str(test_acc))"
   ]
  },
  {
   "cell_type": "code",
   "execution_count": 51,
   "metadata": {},
   "outputs": [
    {
     "data": {
      "text/plain": [
       "array([[34,  1,  1,  3,  3,  4,  3,  0,  1,  1,  0,  0,  1,  2,  0],\n",
       "       [ 2, 25,  1,  5,  0,  1,  0,  3,  5,  0,  0,  0,  2,  6,  2],\n",
       "       [ 1,  6, 10,  0,  5,  0,  4,  0,  2,  0,  0,  0,  2,  0,  1],\n",
       "       [ 2,  5,  5, 19,  1,  1,  6,  3,  1,  0,  0,  0,  7,  0,  1],\n",
       "       [ 5,  0,  4,  2, 31,  1,  3,  0,  0,  6,  0,  1,  0,  1,  0],\n",
       "       [ 2,  6,  0,  5,  5, 21,  0,  0,  0,  1,  3,  1,  3,  0,  0],\n",
       "       [ 7,  4,  0,  7,  9,  3, 13,  0,  1,  1,  1,  0,  1,  0,  0],\n",
       "       [ 1,  3,  0,  1,  0,  0,  0,  8,  9,  0,  0,  0,  2,  3,  0],\n",
       "       [ 2,  3,  0,  1,  0,  1,  2,  1, 24,  0,  0,  1,  8,  5,  4],\n",
       "       [ 2,  0,  1,  2,  5,  1,  1,  0,  0, 20,  2,  4,  1,  0,  0],\n",
       "       [ 0,  1,  1,  3,  1,  9,  1,  0,  0,  2, 15,  2,  0,  0,  0],\n",
       "       [ 1,  1,  0,  3,  3,  4,  1,  0,  0,  3,  0, 23,  3,  1,  0],\n",
       "       [ 3, 11,  5,  7,  2,  0,  3,  5,  3,  1,  0,  1, 27,  4,  2],\n",
       "       [ 8,  5,  2,  2,  1,  0,  1,  8, 10,  0,  0,  0,  4, 15,  0],\n",
       "       [ 0,  2,  2,  3,  1,  1,  0,  0,  8,  0,  0,  0,  3,  3,  6]],\n",
       "      dtype=int64)"
      ]
     },
     "execution_count": 51,
     "metadata": {},
     "output_type": "execute_result"
    }
   ],
   "source": [
    "# Compute confusion Matrix\n",
    "cm = confusion_matrix(ytest, ypred)\n",
    "cm"
   ]
  },
  {
   "cell_type": "code",
   "execution_count": 52,
   "metadata": {},
   "outputs": [
    {
     "data": {
      "image/png": "[encoded data removed]",
      "text/plain": [
       "<Figure size 360x360 with 2 Axes>"
      ]
     },
     "metadata": {
      "needs_background": "light"
     },
     "output_type": "display_data"
    }
   ],
   "source": [
    "#df_cm = pd.DataFrame(cm, index = ['Cancer', 'Control'], columns = ['Cancer', 'Control'])\n",
    "df_cm = pd.DataFrame(cm, index = [i for i in np.unique(y)],\n",
    "                     columns = [i for i in np.unique(y)])\n",
    "plt.figure(figsize = (5,5))\n",
    "sns.heatmap(df_cm, annot=True, cmap=\"YlGnBu\")\n",
    "plt.show()"
   ]
  },
  {
   "cell_type": "code",
   "execution_count": 53,
   "metadata": {},
   "outputs": [],
   "source": [
    "# indicamos la cantidad de valores que queremos probar y lo guardamos en \"iteraciones_knn\"\n",
    "iteraciones_knn = 50\n",
    "# creo un vector de 50 posiciones para guardar los resultados de accuracy.\n",
    "acc_knn = np.zeros(iteraciones_knn)"
   ]
  },
  {
   "cell_type": "code",
   "execution_count": 54,
   "metadata": {},
   "outputs": [],
   "source": [
    "# hago un for loop para ir entrenando un clasificador en cada iteracion e ir probando distintos valores de k\n",
    "for r in range(0,iteraciones_knn):\n",
    "    # entreno un KNN classifier con \"k=r+1\"\n",
    "    neigh = KNeighborsClassifier(n_neighbors=r+1)\n",
    "    neigh.fit(xtrain_scal,ytrain)\n",
    "    # calculo la prediccion\n",
    "    ypred_knn = neigh.predict(xtest_scal)\n",
    "    # guardo el resultado de prediccion en la posicion r del vector \"acc_knn\"\n",
    "    acc_knn[r] = accuracy_score(ytest, ypred_knn)"
   ]
  },
  {
   "cell_type": "code",
   "execution_count": 55,
   "metadata": {},
   "outputs": [
    {
     "data": {
      "image/png": "[encoded data removed]",
      "text/plain": [
       "<Figure size 432x288 with 1 Axes>"
      ]
     },
     "metadata": {
      "needs_background": "light"
     },
     "output_type": "display_data"
    }
   ],
   "source": [
    "# imprimimos en pantalla el accuracy para cada valor de K\n",
    "# vemos que con un valor de 5 obtenemos 0.9 de accuracy.\n",
    "plt.plot(acc_knn)\n",
    "plt.xlabel(\"valor de K\")\n",
    "plt.ylabel(\"Variación de accuracy utilizando distintos K)\")\n",
    "plt.show()"
   ]
  },
  {
   "cell_type": "markdown",
   "metadata": {},
   "source": [
    "### SVM"
   ]
  },
  {
   "cell_type": "code",
   "execution_count": 56,
   "metadata": {},
   "outputs": [
    {
     "name": "stderr",
     "output_type": "stream",
     "text": [
      "C:\\Users\\leoma\\Anaconda3\\lib\\site-packages\\sklearn\\model_selection\\_search.py:813: DeprecationWarning: The default of the `iid` parameter will change from True to False in version 0.22 and will be removed in 0.24. This will change numeric results when test-set sizes are unequal.\n",
      "  DeprecationWarning)\n"
     ]
    }
   ],
   "source": [
    "# fit gaussian (RBF, gausiano) SVM con: \n",
    "# Cross Validation = 5\n",
    "# GridSearch con todos los parametros a probar\n",
    "from sklearn import svm, datasets\n",
    "from sklearn.model_selection import GridSearchCV\n",
    "from sklearn.svm import SVC\n",
    "\n",
    "# Uso una escala exponencial como se ve en C (penalizacion, mientras mas grande mas \n",
    "# sensible) y en gamma, asi abarco un mayor rango\n",
    "\n",
    "# ********************* Gamma dice cuan flexible/lineal es *********************\n",
    "#parameters = {'kernel':('rbf'), 'C':[1, 10, 100, 1000],\n",
    "#              'gamma':[0.0001,0.001, 0.01, 0.1,1, 10,100]}\n",
    "\n",
    "parameters = [{'kernel': ['rbf'],\n",
    "               'gamma': [0.01,0.1,1,10],\n",
    "               'C': [1,3,5,10]}]\n",
    "\n",
    "#parameters = [{'kernel': ('rbf', 'linear'),\n",
    "#               'gamma': [0.01,0.1,1,10],\n",
    "#               'C': [1,3,5,10]}]\n",
    "\n",
    "svc = svm.SVC()\n",
    "clf = GridSearchCV(svc, param_grid = parameters, refit = True, cv = 10)\n",
    "# cv indica la cantidad de folds.\n",
    "# refit nos permite ajustar la muestra al final con los mejores parametros encontrados \n",
    "clf.fit(xtrain_scal, ytrain.ravel())\n",
    "#.ravel() toma el (90,) de y lo acomoda para poder usarlo, creo que le agrega un 1 \n",
    "# en la columna o algo asi, problema que a veces tiene el target\n",
    "\n",
    "#Non-linear SVM\n",
    "\n",
    "#model = SVC(C=1.0, kernel='rbf', gamma = 'auto' )\n",
    "#model.fit(xtrain_scal, ytrain.ravel())\n",
    "\n",
    "scores = clf.cv_results_"
   ]
  },
  {
   "cell_type": "code",
   "execution_count": 57,
   "metadata": {},
   "outputs": [
    {
     "name": "stdout",
     "output_type": "stream",
     "text": [
      "The best parameters are {'C': 10, 'gamma': 0.1, 'kernel': 'rbf'} with a score of 0.47\n"
     ]
    }
   ],
   "source": [
    "print(\"The best parameters are %s with a score of %0.2f\" % \n",
    "      (clf.best_params_, clf.best_score_))\n",
    "#rbf es kernel gaussiano\n",
    "#no siempre es bueno que el score sea taaan alto porque puede referirse que estoy\n",
    "#ajustando demaciado el modelo a mis datos, haciendo \"overfitting\""
   ]
  },
  {
   "cell_type": "code",
   "execution_count": 58,
   "metadata": {},
   "outputs": [],
   "source": [
    "# prediction sobre las muestras de test\n",
    "y_pred=clf.predict(xtest_scal) "
   ]
  },
  {
   "cell_type": "code",
   "execution_count": 59,
   "metadata": {},
   "outputs": [
    {
     "name": "stdout",
     "output_type": "stream",
     "text": [
      "0.4630969609261939\n"
     ]
    }
   ],
   "source": [
    "# Model prediciton\n",
    "print(clf.score(xtest_scal,ytest.ravel()))\n",
    "#obtenemos el promedio de la accuracy"
   ]
  },
  {
   "cell_type": "code",
   "execution_count": 60,
   "metadata": {},
   "outputs": [
    {
     "name": "stdout",
     "output_type": "stream",
     "text": [
      "[[31  1  2  5  1  3  7  0  0  1  0  0  1  2  0]\n",
      " [ 2 21  1  5  0  1  1  3  4  0  0  0  3  7  4]\n",
      " [ 0  2 11  0  8  0  3  0  3  0  0  0  1  0  3]\n",
      " [ 2  1  3 24  0  0  6  0  2  1  0  1  9  0  2]\n",
      " [ 3  1  0  2 35  0  3  0  0  9  0  0  1  0  0]\n",
      " [ 1  4  1  5  4 22  2  0  0  0  5  0  3  0  0]\n",
      " [ 4  2  0  5  7  4 10  1  1  3  1  3  4  2  0]\n",
      " [ 2  0  0  3  0  0  0  9  7  0  0  0  4  2  0]\n",
      " [ 2  2  1  1  0  0  1  1 26  0  0  0  5  8  5]\n",
      " [ 0  0  2  2  2  0  1  0  0 25  3  3  1  0  0]\n",
      " [ 0  0  1  3  0  6  0  0  0  1 21  2  1  0  0]\n",
      " [ 1  1  0  3  0  0  7  0  0  3  1 26  1  0  0]\n",
      " [ 2  6  2  4  2  0  1  4  8  0  2  1 35  3  4]\n",
      " [ 6  3  1  1  0  0  1  7 15  0  0  0 10 12  0]\n",
      " [ 0  2  1  2  1  0  0  0  6  0  0  0  4  1 12]]\n"
     ]
    }
   ],
   "source": [
    "#Plot Confusion Matrix\n",
    "from sklearn.metrics import confusion_matrix\n",
    "cm = confusion_matrix(ytest, y_pred)\n",
    "print(cm)"
   ]
  },
  {
   "cell_type": "code",
   "execution_count": 61,
   "metadata": {},
   "outputs": [
    {
     "data": {
      "image/png": "[encoded data removed]",
      "text/plain": [
       "<Figure size 360x360 with 2 Axes>"
      ]
     },
     "metadata": {
      "needs_background": "light"
     },
     "output_type": "display_data"
    }
   ],
   "source": [
    "df_cm = pd.DataFrame(cm, index = [i for i in np.unique(y)],\n",
    "                     columns = [i for i in np.unique(y)])\n",
    "plt.figure(figsize = (5,5))\n",
    "sns.heatmap(df_cm, annot=True, cmap=\"YlGnBu\")\n",
    "plt.show()"
   ]
  },
  {
   "cell_type": "markdown",
   "metadata": {},
   "source": [
    "### Logistic regresion"
   ]
  },
  {
   "cell_type": "code",
   "execution_count": 62,
   "metadata": {},
   "outputs": [],
   "source": [
    "from sklearn.linear_model import LogisticRegression\n",
    "lr_model = LogisticRegression(random_state=42, solver='lbfgs')"
   ]
  },
  {
   "cell_type": "code",
   "execution_count": 63,
   "metadata": {},
   "outputs": [
    {
     "name": "stdout",
     "output_type": "stream",
     "text": [
      "El accuracy es 0.27496382054992763\n"
     ]
    },
    {
     "name": "stderr",
     "output_type": "stream",
     "text": [
      "C:\\Users\\leoma\\Anaconda3\\lib\\site-packages\\sklearn\\linear_model\\logistic.py:469: FutureWarning: Default multi_class will be changed to 'auto' in 0.22. Specify the multi_class option to silence this warning.\n",
      "  \"this warning.\", FutureWarning)\n"
     ]
    }
   ],
   "source": [
    "lr_model.fit(xtrain_scal, ytrain) \n",
    "# Genero predicciones con mi modelo entrenado para las muestras de Test, utilizando solo Xtest\n",
    "ypred = lr_model.predict(xtest_scal)\n",
    "# Computo el accuracy (comparar ytest vs ypred)\n",
    "test_acc2 = accuracy_score(ytest, ypred)\n",
    "print(\"El accuracy es \" + str(test_acc2))"
   ]
  },
  {
   "cell_type": "code",
   "execution_count": 64,
   "metadata": {
    "scrolled": true
   },
   "outputs": [
    {
     "data": {
      "image/png": "[encoded data removed]",
      "text/plain": [
       "<Figure size 360x360 with 2 Axes>"
      ]
     },
     "metadata": {
      "needs_background": "light"
     },
     "output_type": "display_data"
    }
   ],
   "source": [
    "cm = confusion_matrix(ytest, y_pred)\n",
    "df_cm = pd.DataFrame(cm, index = [i for i in np.unique(y)],\n",
    "                     columns = [i for i in np.unique(y)])\n",
    "plt.figure(figsize = (5,5))\n",
    "sns.heatmap(df_cm, annot=True, cmap=\"YlGnBu\")\n",
    "plt.show()"
   ]
  },
  {
   "cell_type": "code",
   "execution_count": null,
   "metadata": {
    "scrolled": false
   },
   "outputs": [],
   "source": []
  },
  {
   "cell_type": "code",
   "execution_count": null,
   "metadata": {},
   "outputs": [],
   "source": []
  }
 ],
 "metadata": {
  "kernelspec": {
   "display_name": "Python 3",
   "language": "python",
   "name": "python3"
  },
  "language_info": {
   "codemirror_mode": {
    "name": "ipython",
    "version": 3
   },
   "file_extension": ".py",
   "mimetype": "text/x-python",
   "name": "python",
   "nbconvert_exporter": "python",
   "pygments_lexer": "ipython3",
   "version": "3.7.3"
  }
 },
 "nbformat": 4,
 "nbformat_minor": 2
}
