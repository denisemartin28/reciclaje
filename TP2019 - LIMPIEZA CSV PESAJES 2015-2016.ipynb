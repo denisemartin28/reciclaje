{
 "cells": [
  {
   "cell_type": "markdown",
   "metadata": {},
   "source": [
    "# Trabajo Practico 2019 - Reciclaje en CABA\n",
    "\n",
    "## Pesaje Recibido en Puntos Verdes (2015-2016) en kilogramos\n",
    "\n",
    "### Primero importamos las librerías"
   ]
  },
  {
   "cell_type": "code",
   "execution_count": 1,
   "metadata": {
    "collapsed": true
   },
   "outputs": [],
   "source": [
    "import numpy as np\n",
    "import pandas as pd\n",
    "import matplotlib.pyplot as plt\n",
    "import seaborn as sns"
   ]
  },
  {
   "cell_type": "markdown",
   "metadata": {},
   "source": [
    "### Importamos reemplazando comas por puntos para poder los pesajes a tipo flotante. Primero elimino los 4 puntos excepcionales que hay."
   ]
  },
  {
   "cell_type": "code",
   "execution_count": 2,
   "metadata": {},
   "outputs": [
    {
     "data": {
      "text/plain": [
       "'C:\\\\Users\\\\emi\\\\Desktop\\\\UTN 2019\\\\CIENCIA DE DATOS\\\\tp\\\\tp al 12-11\\\\reciclaje-master'"
      ]
     },
     "execution_count": 2,
     "metadata": {},
     "output_type": "execute_result"
    }
   ],
   "source": [
    "pwd"
   ]
  },
  {
   "cell_type": "code",
   "execution_count": 3,
   "metadata": {
    "collapsed": true
   },
   "outputs": [],
   "source": [
    "comas_por_puntos = lambda x : (x.replace('.', '').replace(',', '.'))\n",
    "\n",
    "filename = r'pesaje-recibido-en-puntos-verdes-2015-2016.csv'\n",
    "pesajes = pd.read_csv(filename, delimiter=';', decimal='.',\n",
    "                      converters = {'VIDRIO':comas_por_puntos,\n",
    "                                    'PAPEL_Y_CARTON':comas_por_puntos,\n",
    "                                    'METAL':comas_por_puntos,\n",
    "                                    'PLASTICO_PET':comas_por_puntos,\n",
    "                                    'TELGOPOR':comas_por_puntos,\n",
    "                                    'PLASTICOS_TODOS_LOS_DEMAS':comas_por_puntos,\n",
    "                                    'TETRA_BRICK':comas_por_puntos,\n",
    "                                    'PEQUENIOS_ELECTRODOMESTICOS':comas_por_puntos,\n",
    "                                    'APARATOS_ELECTRONICOS_EN_DESUSO':comas_por_puntos,\n",
    "                                    'AVUS':comas_por_puntos})"
   ]
  },
  {
   "cell_type": "code",
   "execution_count": 4,
   "metadata": {},
   "outputs": [
    {
     "name": "stdout",
     "output_type": "stream",
     "text": [
      "Pesajes tiene: 3080 filas y 3080 columnas\n"
     ]
    },
    {
     "data": {
      "text/html": [
       "<div>\n",
       "<style>\n",
       "    .dataframe thead tr:only-child th {\n",
       "        text-align: right;\n",
       "    }\n",
       "\n",
       "    .dataframe thead th {\n",
       "        text-align: left;\n",
       "    }\n",
       "\n",
       "    .dataframe tbody tr th {\n",
       "        vertical-align: top;\n",
       "    }\n",
       "</style>\n",
       "<table border=\"1\" class=\"dataframe\">\n",
       "  <thead>\n",
       "    <tr style=\"text-align: right;\">\n",
       "      <th></th>\n",
       "      <th>PUNTO</th>\n",
       "      <th>COMUNA</th>\n",
       "      <th>ANIO</th>\n",
       "      <th>MES</th>\n",
       "      <th>SEMANA</th>\n",
       "      <th>VIDRIO</th>\n",
       "      <th>PAPEL_Y_CARTON</th>\n",
       "      <th>METAL</th>\n",
       "      <th>PLASTICO_PET</th>\n",
       "      <th>TELGOPOR</th>\n",
       "      <th>PLASTICOS_TODOS_LOS_DEMAS</th>\n",
       "      <th>TETRA_BRICK</th>\n",
       "      <th>PEQUENIOS_ELECTRODOMESTICOS</th>\n",
       "      <th>APARATOS_ELECTRONICOS_EN_DESUSO</th>\n",
       "      <th>AVUS</th>\n",
       "    </tr>\n",
       "  </thead>\n",
       "  <tbody>\n",
       "    <tr>\n",
       "      <th>0</th>\n",
       "      <td>ESTACION VILLA SOLDATI</td>\n",
       "      <td>COMUNA 8</td>\n",
       "      <td>2015</td>\n",
       "      <td>ABRIL</td>\n",
       "      <td>1</td>\n",
       "      <td>31.2</td>\n",
       "      <td>20.7</td>\n",
       "      <td>0.27</td>\n",
       "      <td></td>\n",
       "      <td>0</td>\n",
       "      <td>13.41</td>\n",
       "      <td>0</td>\n",
       "      <td></td>\n",
       "      <td></td>\n",
       "      <td></td>\n",
       "    </tr>\n",
       "    <tr>\n",
       "      <th>1</th>\n",
       "      <td>ESTACION VILLA SOLDATI</td>\n",
       "      <td>COMUNA 8</td>\n",
       "      <td>2015</td>\n",
       "      <td>ABRIL</td>\n",
       "      <td>2</td>\n",
       "      <td>2.231</td>\n",
       "      <td>44.878</td>\n",
       "      <td>0</td>\n",
       "      <td></td>\n",
       "      <td>0</td>\n",
       "      <td>37.886</td>\n",
       "      <td>0.54</td>\n",
       "      <td></td>\n",
       "      <td></td>\n",
       "      <td></td>\n",
       "    </tr>\n",
       "    <tr>\n",
       "      <th>2</th>\n",
       "      <td>ESTACION VILLA SOLDATI</td>\n",
       "      <td>COMUNA 8</td>\n",
       "      <td>2015</td>\n",
       "      <td>ABRIL</td>\n",
       "      <td>3</td>\n",
       "      <td>38.042</td>\n",
       "      <td>27.763</td>\n",
       "      <td>1.067</td>\n",
       "      <td></td>\n",
       "      <td>0</td>\n",
       "      <td>17.57</td>\n",
       "      <td>0</td>\n",
       "      <td></td>\n",
       "      <td></td>\n",
       "      <td></td>\n",
       "    </tr>\n",
       "  </tbody>\n",
       "</table>\n",
       "</div>"
      ],
      "text/plain": [
       "                    PUNTO    COMUNA  ANIO    MES  SEMANA  VIDRIO  \\\n",
       "0  ESTACION VILLA SOLDATI  COMUNA 8  2015  ABRIL       1    31.2   \n",
       "1  ESTACION VILLA SOLDATI  COMUNA 8  2015  ABRIL       2   2.231   \n",
       "2  ESTACION VILLA SOLDATI  COMUNA 8  2015  ABRIL       3  38.042   \n",
       "\n",
       "  PAPEL_Y_CARTON  METAL PLASTICO_PET TELGOPOR PLASTICOS_TODOS_LOS_DEMAS  \\\n",
       "0           20.7   0.27                     0                     13.41   \n",
       "1         44.878      0                     0                    37.886   \n",
       "2         27.763  1.067                     0                     17.57   \n",
       "\n",
       "  TETRA_BRICK PEQUENIOS_ELECTRODOMESTICOS APARATOS_ELECTRONICOS_EN_DESUSO AVUS  \n",
       "0           0                                                                   \n",
       "1        0.54                                                                   \n",
       "2           0                                                                   "
      ]
     },
     "execution_count": 4,
     "metadata": {},
     "output_type": "execute_result"
    }
   ],
   "source": [
    "print(f'Pesajes tiene: {np.shape(pesajes)[0]} filas y {np.shape(pesajes)[0]} columnas')\n",
    "\n",
    "pesajes.head(3)"
   ]
  },
  {
   "cell_type": "markdown",
   "metadata": {},
   "source": [
    "###  Mostramos los puntos y comunas distintas"
   ]
  },
  {
   "cell_type": "code",
   "execution_count": 5,
   "metadata": {},
   "outputs": [
    {
     "name": "stdout",
     "output_type": "stream",
     "text": [
      "Hay 15 comunas distintas\n",
      "Hay 32 puntos distintos distribuidos entre las comunas\n"
     ]
    }
   ],
   "source": [
    "comunas_distintas = np.unique(pesajes.COMUNA)\n",
    "print(f'Hay {len(comunas_distintas)} comunas distintas')\n",
    "\n",
    "puntos_distintos = np.unique(pesajes.PUNTO)\n",
    "print(f'Hay {len(puntos_distintos)} puntos distintos distribuidos entre las comunas')"
   ]
  },
  {
   "cell_type": "markdown",
   "metadata": {},
   "source": [
    "### Transformamos los meses a valores numéricos y separamos los años"
   ]
  },
  {
   "cell_type": "code",
   "execution_count": 6,
   "metadata": {
    "collapsed": true
   },
   "outputs": [],
   "source": [
    "meses = [\"ENERO\",\"FEBRERO\",\"MARZO\",\"ABRIL\",\"MAYO\",\"JUNIO\",\"JULIO\",\"AGOSTO\",\"SEPTIEMBRE\",\"OCTUBRE\",\"NOVIEMBRE\",\"DICIEMBRE\"]\n",
    "for i in range (1,13):\n",
    "    pesajes.loc[ pesajes['MES'] == meses[i-1], 'MES'] = i\n",
    "\n",
    "# Separo 2015 y 2016\n",
    "pesajes_2015 = pesajes.loc[pesajes['ANIO'] == 2015]\n",
    "pesajes_2016 = pesajes.loc[pesajes['ANIO'] == 2016]"
   ]
  },
  {
   "cell_type": "markdown",
   "metadata": {},
   "source": [
    "### Vemos que porcenaje de datos faltantes hay por columna"
   ]
  },
  {
   "cell_type": "code",
   "execution_count": 7,
   "metadata": {},
   "outputs": [
    {
     "data": {
      "text/html": [
       "<div>\n",
       "<style>\n",
       "    .dataframe thead tr:only-child th {\n",
       "        text-align: right;\n",
       "    }\n",
       "\n",
       "    .dataframe thead th {\n",
       "        text-align: left;\n",
       "    }\n",
       "\n",
       "    .dataframe tbody tr th {\n",
       "        vertical-align: top;\n",
       "    }\n",
       "</style>\n",
       "<table border=\"1\" class=\"dataframe\">\n",
       "  <thead>\n",
       "    <tr style=\"text-align: right;\">\n",
       "      <th></th>\n",
       "      <th>Total</th>\n",
       "      <th>Porcentaje</th>\n",
       "    </tr>\n",
       "  </thead>\n",
       "  <tbody>\n",
       "    <tr>\n",
       "      <th>AVUS</th>\n",
       "      <td>2993</td>\n",
       "      <td>0.971753</td>\n",
       "    </tr>\n",
       "    <tr>\n",
       "      <th>APARATOS_ELECTRONICOS_EN_DESUSO</th>\n",
       "      <td>2872</td>\n",
       "      <td>0.932468</td>\n",
       "    </tr>\n",
       "    <tr>\n",
       "      <th>PEQUENIOS_ELECTRODOMESTICOS</th>\n",
       "      <td>2872</td>\n",
       "      <td>0.932468</td>\n",
       "    </tr>\n",
       "    <tr>\n",
       "      <th>PLASTICO_PET</th>\n",
       "      <td>1284</td>\n",
       "      <td>0.416883</td>\n",
       "    </tr>\n",
       "    <tr>\n",
       "      <th>TETRA_BRICK</th>\n",
       "      <td>738</td>\n",
       "      <td>0.239610</td>\n",
       "    </tr>\n",
       "    <tr>\n",
       "      <th>TELGOPOR</th>\n",
       "      <td>371</td>\n",
       "      <td>0.120455</td>\n",
       "    </tr>\n",
       "    <tr>\n",
       "      <th>METAL</th>\n",
       "      <td>371</td>\n",
       "      <td>0.120455</td>\n",
       "    </tr>\n",
       "    <tr>\n",
       "      <th>PAPEL_Y_CARTON</th>\n",
       "      <td>371</td>\n",
       "      <td>0.120455</td>\n",
       "    </tr>\n",
       "    <tr>\n",
       "      <th>VIDRIO</th>\n",
       "      <td>370</td>\n",
       "      <td>0.120130</td>\n",
       "    </tr>\n",
       "    <tr>\n",
       "      <th>PLASTICOS_TODOS_LOS_DEMAS</th>\n",
       "      <td>369</td>\n",
       "      <td>0.119805</td>\n",
       "    </tr>\n",
       "    <tr>\n",
       "      <th>SEMANA</th>\n",
       "      <td>0</td>\n",
       "      <td>0.000000</td>\n",
       "    </tr>\n",
       "    <tr>\n",
       "      <th>MES</th>\n",
       "      <td>0</td>\n",
       "      <td>0.000000</td>\n",
       "    </tr>\n",
       "    <tr>\n",
       "      <th>ANIO</th>\n",
       "      <td>0</td>\n",
       "      <td>0.000000</td>\n",
       "    </tr>\n",
       "    <tr>\n",
       "      <th>COMUNA</th>\n",
       "      <td>0</td>\n",
       "      <td>0.000000</td>\n",
       "    </tr>\n",
       "    <tr>\n",
       "      <th>PUNTO</th>\n",
       "      <td>0</td>\n",
       "      <td>0.000000</td>\n",
       "    </tr>\n",
       "  </tbody>\n",
       "</table>\n",
       "</div>"
      ],
      "text/plain": [
       "                                 Total  Porcentaje\n",
       "AVUS                              2993    0.971753\n",
       "APARATOS_ELECTRONICOS_EN_DESUSO   2872    0.932468\n",
       "PEQUENIOS_ELECTRODOMESTICOS       2872    0.932468\n",
       "PLASTICO_PET                      1284    0.416883\n",
       "TETRA_BRICK                        738    0.239610\n",
       "TELGOPOR                           371    0.120455\n",
       "METAL                              371    0.120455\n",
       "PAPEL_Y_CARTON                     371    0.120455\n",
       "VIDRIO                             370    0.120130\n",
       "PLASTICOS_TODOS_LOS_DEMAS          369    0.119805\n",
       "SEMANA                               0    0.000000\n",
       "MES                                  0    0.000000\n",
       "ANIO                                 0    0.000000\n",
       "COMUNA                               0    0.000000\n",
       "PUNTO                                0    0.000000"
      ]
     },
     "execution_count": 7,
     "metadata": {},
     "output_type": "execute_result"
    }
   ],
   "source": [
    "# Primero reemplazo las cadenas vacias y los espacios ' ' por valor NaN para poder contarlos mas facil\n",
    "pesajes = pesajes.replace('', np.nan).replace(' ', np.nan)\n",
    "\n",
    "total = pesajes.isnull().sum().sort_values(ascending=False)\n",
    "percent = (pesajes.isnull().sum()/pesajes.isnull().count()).sort_values(ascending=False)\n",
    "nulos = pd.concat([total, percent], axis=1, keys=['Total', 'Porcentaje'])\n",
    "nulos"
   ]
  },
  {
   "cell_type": "markdown",
   "metadata": {},
   "source": [
    "#### Decidimos eliminar la columna de AVUs, y las de eletrodomesticos por tener menos del 90% de los datos\n",
    "La cantidad de Nan en PEQUENIOS_ELECTRODOMESTICOS, APARATOS_ELECTRONICOS_EN_DESUSO y AVUS tienen su sentido, de los 32 puntos verdes, 30 son puntos verdes comunes que juntan vidrio, papel, carton, metal, plastico, tetra brick y plastico, y hay 2 puntos verdes que ademas de juntar lo anteriormente mencionado, juntan PEQUENIOS_ELECTRODOMESTICOS, APARATOS_ELECTRONICOS_EN_DESUSO y AVUS. Para poder hacer una mejor comparacion entre los puntos verdes, vamos a considerar los 32 iguales, descartando estas 3 columnas."
   ]
  },
  {
   "cell_type": "code",
   "execution_count": 8,
   "metadata": {
    "collapsed": true,
    "scrolled": true
   },
   "outputs": [],
   "source": [
    "pesajes = pesajes.iloc[:,0:12]"
   ]
  },
  {
   "cell_type": "markdown",
   "metadata": {},
   "source": [
    "Los PLASTICO_PET son de los materiales mas comunmente reciclables y lamentablemente es la columna que peor condicion tiene. Además de los registros nulos que tiene, tambien tienen en su mayoria valores 0. Por lo tanto decidimos eliminarla también."
   ]
  },
  {
   "cell_type": "code",
   "execution_count": 9,
   "metadata": {},
   "outputs": [
    {
     "name": "stdout",
     "output_type": "stream",
     "text": [
      "Valores vacios en PLASTICO_PET: 2311\n"
     ]
    }
   ],
   "source": [
    "vaciosPET = np.shape(pesajes.loc[(pesajes['PLASTICO_PET'] == \"0\")])[0] + pesajes.isnull().sum()[8]\n",
    "print(\"Valores vacios en PLASTICO_PET: \" + str(vaciosPET))"
   ]
  },
  {
   "cell_type": "code",
   "execution_count": 10,
   "metadata": {
    "scrolled": true
   },
   "outputs": [
    {
     "data": {
      "text/html": [
       "<div>\n",
       "<style>\n",
       "    .dataframe thead tr:only-child th {\n",
       "        text-align: right;\n",
       "    }\n",
       "\n",
       "    .dataframe thead th {\n",
       "        text-align: left;\n",
       "    }\n",
       "\n",
       "    .dataframe tbody tr th {\n",
       "        vertical-align: top;\n",
       "    }\n",
       "</style>\n",
       "<table border=\"1\" class=\"dataframe\">\n",
       "  <thead>\n",
       "    <tr style=\"text-align: right;\">\n",
       "      <th></th>\n",
       "      <th>PUNTO</th>\n",
       "      <th>COMUNA</th>\n",
       "      <th>ANIO</th>\n",
       "      <th>MES</th>\n",
       "      <th>SEMANA</th>\n",
       "      <th>VIDRIO</th>\n",
       "      <th>PAPEL_Y_CARTON</th>\n",
       "      <th>METAL</th>\n",
       "      <th>TELGOPOR</th>\n",
       "      <th>PLASTICOS_TODOS_LOS_DEMAS</th>\n",
       "      <th>TETRA_BRICK</th>\n",
       "    </tr>\n",
       "  </thead>\n",
       "  <tbody>\n",
       "    <tr>\n",
       "      <th>0</th>\n",
       "      <td>ESTACION VILLA SOLDATI</td>\n",
       "      <td>COMUNA 8</td>\n",
       "      <td>2015</td>\n",
       "      <td>4</td>\n",
       "      <td>1</td>\n",
       "      <td>31.2</td>\n",
       "      <td>20.7</td>\n",
       "      <td>0.27</td>\n",
       "      <td>0</td>\n",
       "      <td>13.41</td>\n",
       "      <td>0</td>\n",
       "    </tr>\n",
       "    <tr>\n",
       "      <th>1</th>\n",
       "      <td>ESTACION VILLA SOLDATI</td>\n",
       "      <td>COMUNA 8</td>\n",
       "      <td>2015</td>\n",
       "      <td>4</td>\n",
       "      <td>2</td>\n",
       "      <td>2.231</td>\n",
       "      <td>44.878</td>\n",
       "      <td>0</td>\n",
       "      <td>0</td>\n",
       "      <td>37.886</td>\n",
       "      <td>0.54</td>\n",
       "    </tr>\n",
       "    <tr>\n",
       "      <th>2</th>\n",
       "      <td>ESTACION VILLA SOLDATI</td>\n",
       "      <td>COMUNA 8</td>\n",
       "      <td>2015</td>\n",
       "      <td>4</td>\n",
       "      <td>3</td>\n",
       "      <td>38.042</td>\n",
       "      <td>27.763</td>\n",
       "      <td>1.067</td>\n",
       "      <td>0</td>\n",
       "      <td>17.57</td>\n",
       "      <td>0</td>\n",
       "    </tr>\n",
       "  </tbody>\n",
       "</table>\n",
       "</div>"
      ],
      "text/plain": [
       "                    PUNTO    COMUNA  ANIO  MES  SEMANA  VIDRIO PAPEL_Y_CARTON  \\\n",
       "0  ESTACION VILLA SOLDATI  COMUNA 8  2015    4       1    31.2           20.7   \n",
       "1  ESTACION VILLA SOLDATI  COMUNA 8  2015    4       2   2.231         44.878   \n",
       "2  ESTACION VILLA SOLDATI  COMUNA 8  2015    4       3  38.042         27.763   \n",
       "\n",
       "   METAL TELGOPOR PLASTICOS_TODOS_LOS_DEMAS TETRA_BRICK  \n",
       "0   0.27        0                     13.41           0  \n",
       "1      0        0                    37.886        0.54  \n",
       "2  1.067        0                     17.57           0  "
      ]
     },
     "execution_count": 10,
     "metadata": {},
     "output_type": "execute_result"
    }
   ],
   "source": [
    "pesajes = pesajes.iloc[:,[0,1,2,3,4,5,6,7,9,10,11]]\n",
    "pesajes.head(3)"
   ]
  },
  {
   "cell_type": "code",
   "execution_count": 11,
   "metadata": {},
   "outputs": [
    {
     "data": {
      "text/plain": [
       "(1731, 11)"
      ]
     },
     "execution_count": 11,
     "metadata": {},
     "output_type": "execute_result"
    }
   ],
   "source": [
    "#Separo 2015 y 2016\n",
    "pesajes_2015 = pesajes.loc[pesajes['ANIO'] == 2015]\n",
    "np.shape(pesajes_2015)"
   ]
  },
  {
   "cell_type": "code",
   "execution_count": 12,
   "metadata": {},
   "outputs": [
    {
     "data": {
      "text/plain": [
       "(1349, 11)"
      ]
     },
     "execution_count": 12,
     "metadata": {},
     "output_type": "execute_result"
    }
   ],
   "source": [
    "pesajes_2016 = pesajes.loc[pesajes['ANIO'] == 2016]\n",
    "np.shape(pesajes_2016)"
   ]
  },
  {
   "cell_type": "markdown",
   "metadata": {},
   "source": [
    "# Analisis de cantidad de datos en mes\n",
    "Antes de analizar las comunas, analizaremos si todos los meses estan con datos, para saber si nuestro dataframe llega de enero 2015 a diciembre 2016, o si el GCBA no recaudo data en algun periodo en particular.\n",
    "\n",
    "Empezamos analizando 2015"
   ]
  },
  {
   "cell_type": "code",
   "execution_count": 13,
   "metadata": {},
   "outputs": [
    {
     "data": {
      "text/plain": [
       "MES   ANIO  \n",
       "12.0  2015.0    32\n",
       "11.0  2015.0    32\n",
       "10.0  2015.0    32\n",
       "9.0   2015.0    32\n",
       "8.0   2015.0    32\n",
       "7.0   2015.0    32\n",
       "6.0   2015.0    32\n",
       "5.0   2015.0    32\n",
       "4.0   2015.0    32\n",
       "3.0   2015.0    32\n",
       "2.0   2015.0    32\n",
       "1.0   2015.0    32\n",
       "Name: N_DATOS, dtype: int64"
      ]
     },
     "execution_count": 13,
     "metadata": {},
     "output_type": "execute_result"
    }
   ],
   "source": [
    "# Primero analizo si todos los meses tienen datos\n",
    "# Creo un dataframe que tenga mes, anio y la cantidad de datos que contiene, para saber si hay meses faltantes\n",
    "meses_2015 = pd.DataFrame({\"ANIO\":[],\"MES\":[],\"N_DATOS\":[]})\n",
    "meses_2015\n",
    "mesAnterior = 0 #lo arranco en un mes inexistente\n",
    "semanas_del_Mes = 0\n",
    "\n",
    "for indice in range(0, len(pesajes_2015)):\n",
    "    mesActual = pesajes_2015.iloc[indice].MES\n",
    "    if (mesAnterior == mesActual):\n",
    "        semanas_del_Mes += 1\n",
    "    else:\n",
    "        mesAnterior = mesActual\n",
    "        meses_2015 = meses_2015.append(\n",
    "                {\"N_DATOS\": semanas_del_Mes,\n",
    "                 \"ANIO\": 2015,\n",
    "                 \"MES\": mesActual}, ignore_index=True)\n",
    "        semanas_del_Mes = 1 #Reseteo el contador\n",
    "\n",
    "meses_2015_tabla = meses_2015.groupby([\"MES\", \"ANIO\"])[\"N_DATOS\"].count().sort_values(ascending=False)\n",
    "meses_2015_tabla"
   ]
  },
  {
   "cell_type": "markdown",
   "metadata": {},
   "source": [
    "En 2015, las 32 comunas tienen al menos algun dato cargado en todos los meses, por lo que lo podemos considerar que en todo 2015 GCBA recgio datos de todos los puntos verdes.\n",
    "\n",
    "Ahora analizamos 2016."
   ]
  },
  {
   "cell_type": "code",
   "execution_count": 14,
   "metadata": {},
   "outputs": [
    {
     "data": {
      "text/plain": [
       "MES   ANIO  \n",
       "9.0   2016.0    32\n",
       "8.0   2016.0    32\n",
       "7.0   2016.0    32\n",
       "5.0   2016.0    32\n",
       "4.0   2016.0    32\n",
       "3.0   2016.0    32\n",
       "2.0   2016.0    32\n",
       "1.0   2016.0    32\n",
       "6.0   2016.0    30\n",
       "10.0  2016.0     4\n",
       "12.0  2016.0     2\n",
       "11.0  2016.0     2\n",
       "Name: N_DATOS, dtype: int64"
      ]
     },
     "execution_count": 14,
     "metadata": {},
     "output_type": "execute_result"
    }
   ],
   "source": [
    "# Primero analizo si todos los meses tienen datos\n",
    "# Creo un dataframe que tenga mes, anio y la cantidad de datos que contiene, para saber si hay meses faltantes\n",
    "meses_2016 = pd.DataFrame({\"ANIO\":[],\"MES\":[],\"N_DATOS\":[]})\n",
    "meses_2016\n",
    "mesAnterior = 0 #lo arranco en un mes inexistente\n",
    "semanas_del_Mes = 0\n",
    "\n",
    "for indice in range(0, len(pesajes_2016)):\n",
    "    mesActual = pesajes_2016.iloc[indice].MES\n",
    "    if (mesAnterior == mesActual):\n",
    "        semanas_del_Mes += 1\n",
    "    else:\n",
    "        mesAnterior = mesActual\n",
    "        meses_2016 = meses_2016.append(\n",
    "                {\"N_DATOS\": semanas_del_Mes,\n",
    "                 \"ANIO\": 2016,\n",
    "                 \"MES\": mesActual}, ignore_index=True)\n",
    "        semanas_del_Mes = 1 #Reseteo el contador\n",
    "\n",
    "meses_2016_tabla = meses_2016.groupby([\"MES\", \"ANIO\"])[\"N_DATOS\"].count().sort_values(ascending=False)\n",
    "meses_2016_tabla"
   ]
  },
  {
   "cell_type": "markdown",
   "metadata": {},
   "source": [
    "En el mes 10-2016, solo 4 puntos verdes de 32 tienen datos, y tanto 11-2016 como 12-2016, solo dos puntos verdes de 32 tienen datos. Ante este panorama, vamos a descartar los ultimos 3 meses de 2016, y vamos a hacer nuestro analisis de enero 2015 a septiembre 2016."
   ]
  },
  {
   "cell_type": "code",
   "execution_count": 15,
   "metadata": {
    "collapsed": true
   },
   "outputs": [],
   "source": [
    "# Almacenamos los meses 10,11 y 12 de 2016 para las 2 comunas especiales (PLAZA ARENALES y PARQUE CENTENARIO)\n",
    "pesajes_extra_Arenales_Centenario = pesajes.loc[((pesajes['ANIO'] == 2016) & (pesajes['MES'].isin([10,11,12])) & (pesajes['PUNTO'].isin(['PLAZA ARENALES','PARQUE CENTENARIO'])))]\n",
    "pesajes_extra_Arenales_Centenario.head()\n",
    "\n",
    "# Eliminamos los ultimos 3 meses\n",
    "pesajes = pesajes.loc[~((pesajes['ANIO'] == 2016) & (pesajes['MES'].isin([10,11,12])))]"
   ]
  },
  {
   "cell_type": "markdown",
   "metadata": {},
   "source": [
    "##   Criterios elegidos para limpiar el Dataframe\n",
    "\n",
    "Dada la gran cantidad de datos faltantes o vacios, expresados de diversas formas, elegimos un criterio para seleccionar los puntos mas prometedores para trabajar.\n",
    "### 1) Semana\n",
    "    Si una semana esta llena de 0s, \"\", \" \", NaNs es considerada VACIA\n",
    "### 2) Mes\n",
    "    Si un mes tiene 3 o más semanas VACIAS -> Esta VACIO\n",
    "    Si un mes no esta cargado en el dataframe -> Esta VACIO\n",
    "### 3) Punto\n",
    "    Si un Punto tiene 4 o mas meses VACIOS en 2015 y 2016 -> Esta VACIO"
   ]
  },
  {
   "cell_type": "markdown",
   "metadata": {},
   "source": [
    "\n",
    "\n",
    "### Cuento los meses que aparecen tienen 3 o mas semanas vacias"
   ]
  },
  {
   "cell_type": "code",
   "execution_count": 16,
   "metadata": {
    "collapsed": true
   },
   "outputs": [],
   "source": [
    "#Primero filtro las que tienen meses con todas las filas llenas de cero (si tienen esas 3 vacias, el resto tambien)\n",
    "filtro1 = pesajes_2015['VIDRIO'].isin([0,np.nan,\" \"])\n",
    "filtro2 = pesajes_2015['PAPEL_Y_CARTON'].isin([0,np.nan,\" \"])\n",
    "sin_vacio = (filtro1 & filtro2)\n",
    "pesajes_2015_semanas_vacias = pesajes_2015[sin_vacio].drop_duplicates().sort_values(by=['PUNTO', 'MES','SEMANA']).copy().reset_index(drop=True)\n",
    "\n",
    "filtro1 = pesajes_2016['VIDRIO'].isin([0,np.nan,\" \"])\n",
    "filtro2 = pesajes_2016['PAPEL_Y_CARTON'].isin([0,np.nan,\" \"])\n",
    "sin_vacio = (filtro1 & filtro2)\n",
    "pesajes_2016_semanas_vacias = pesajes_2016[sin_vacio].drop_duplicates().sort_values(by=['PUNTO', 'MES','SEMANA']).copy().reset_index(drop=True)"
   ]
  },
  {
   "cell_type": "code",
   "execution_count": 17,
   "metadata": {
    "collapsed": true
   },
   "outputs": [],
   "source": [
    "# Leo todas las semanas faltantes, si llego a 3 en el mismo mes lo guardo en el\n",
    "# siguiente dataframe para luego borrarlos todos juntos\n",
    "\n",
    "meses_Vacios_2015 = pd.DataFrame({\"PUNTO\":[],\"ANIO\":[],\"MES\":[]})\n",
    "mesAnterior = 0 \n",
    "\n",
    "for indice in range(0, len(pesajes_2015_semanas_vacias)):\n",
    "    mesActual = pesajes_2015_semanas_vacias.iloc[indice].MES\n",
    "    if (mesAnterior == mesActual):\n",
    "        semanas_vacias_del_Mes += 1\n",
    "        if(semanas_vacias_del_Mes != 3):\n",
    "            continue\n",
    "        else:\n",
    "            meses_Vacios_2015 = meses_Vacios_2015.append(\n",
    "                {\"PUNTO\": pesajes_2015_semanas_vacias.iloc[indice].PUNTO,\n",
    "                 \"ANIO\": 2015,\n",
    "                 \"MES\": mesActual}, ignore_index=True)\n",
    "    else:\n",
    "        mesAnterior = mesActual\n",
    "        semanas_vacias_del_Mes = 1 #Reseteo el contador\n",
    "\n",
    "meses_Vacios_2015_tabla = meses_Vacios_2015.groupby([\"PUNTO\", \"ANIO\"])[\"MES\"].count().sort_values(ascending=False)\n",
    "meses_Vacios_2015_tabla = pd.concat([meses_Vacios_2015_tabla], axis=1, keys=['Meses vacios por tener al menos 3 semanas vacias'])\n",
    "\n",
    "# Mismo pasa para 2016\n",
    "meses_Vacios_2016 = pd.DataFrame({\"PUNTO\":[],\"ANIO\":[],\"MES\":[]})\n",
    "mesAnterior = 0\n",
    "\n",
    "for indice in range(0, len(pesajes_2016_semanas_vacias)):\n",
    "    mesActual = pesajes_2016_semanas_vacias.iloc[indice].MES\n",
    "    if (mesAnterior == mesActual):\n",
    "        semanas_vacias_del_Mes += 1\n",
    "        if(semanas_vacias_del_Mes != 3):\n",
    "            continue\n",
    "        else:\n",
    "            meses_Vacios_2016 = meses_Vacios_2016.append(\n",
    "                {\"PUNTO\": pesajes_2016_semanas_vacias.iloc[indice].PUNTO,\n",
    "                 \"ANIO\": 2016,\n",
    "                 \"MES\": mesActual}, ignore_index=True)\n",
    "    else:\n",
    "        mesAnterior = mesActual\n",
    "        semanas_vacias_del_Mes = 1 #Reseteo el contador\n",
    "\n",
    "meses_Vacios_2016_tabla = meses_Vacios_2016.groupby([\"PUNTO\", \"ANIO\"])[\"MES\"].count().sort_values(ascending=False)\n",
    "meses_Vacios_2016_tabla = pd.concat([meses_Vacios_2016_tabla], axis=1, keys=['Meses vacios por tener al menos 3 semanas vacias'])"
   ]
  },
  {
   "cell_type": "markdown",
   "metadata": {},
   "source": [
    "2015 no tiene meses faltantes no cargados.\n",
    "\n",
    "En el Año 2016 hay muchos meses que no estan cargados. Vamos a contarlos incluyendo los que estan vacíos por cada uno de los Puntos.\n",
    "\n",
    "Luego eliminamos los barrios que tengan 4 o mas meses vacios entre los 2 años."
   ]
  },
  {
   "cell_type": "markdown",
   "metadata": {},
   "source": [
    "### Junto todas las tablas en una que muestre el estado de los Puntos segun datos vacios y faltantes"
   ]
  },
  {
   "cell_type": "code",
   "execution_count": 19,
   "metadata": {
    "scrolled": false
   },
   "outputs": [],
   "source": [
    "## Creo un df de los meses que tengo cargados de cada año, ordenados\n",
    "meses_cargados_2015 = pesajes_2015.iloc[:,[0,3]].drop_duplicates().sort_values(by=['PUNTO', 'MES'])\n",
    "meses_cargados_2015 = meses_cargados_2015.copy().reset_index(drop=True)\n",
    "meses_cargados_2016 = pesajes_2016.iloc[:,[0,3]].drop_duplicates().sort_values(by=['PUNTO', 'MES'])\n",
    "meses_cargados_2016 = meses_cargados_2016.copy().reset_index(drop=True)\n",
    "    \n",
    "## Los comparo y obtengo un df de todos los meses faltantes con PUNTO y MES\n",
    "meses_faltantes = pd.merge(meses_cargados_2015, meses_cargados_2016,how='outer', indicator=True).query('_merge == \"left_only\"')\n",
    "meses_faltantes_por_barrio = meses_faltantes.groupby([\"PUNTO\"])[\"MES\"].count().sort_values(ascending=False)\n",
    "    \n",
    "## Agrego los 2 puntos sin falta de meses para que quede completa la lista\n",
    "puntos_sin_meses_faltantes = list(filter(lambda x: x not in meses_faltantes_por_barrio.index, puntos_distintos))\n",
    "meses_faltantes_por_barrio[puntos_sin_meses_faltantes[0]] = 0\n",
    "meses_faltantes_por_barrio[puntos_sin_meses_faltantes[1]] = 0\n",
    "\n",
    "Tabla_Faltantes = pd.concat([meses_faltantes_por_barrio], axis=1, keys=['Meses faltantes por barrio en 2016'])\n",
    "meses_faltantes = meses_faltantes.iloc[:,0:2]\n",
    "\n",
    "Tabla_de_Vacios_Completa = meses_faltantes.groupby([\"PUNTO\"])[\"MES\"].count().sort_values(ascending=False)\n",
    "## Agrego los 2 puntos sin falta de meses para que quede completa la lista\n",
    "puntos_sin_meses_faltantes_2 = list(filter(lambda x: x not in Tabla_de_Vacios_Completa.index, puntos_distintos))\n",
    "Tabla_de_Vacios_Completa[puntos_sin_meses_faltantes_2[0]] = 0;Tabla_de_Vacios_Completa[puntos_sin_meses_faltantes_2[1]] = 0\n",
    "Tabla_de_Vacios_Completa = Tabla_de_Vacios_Completa.to_frame().rename(columns = {\"MES\":\"Faltantes_2016\"})\n",
    "\n",
    "\n",
    "Agregar_a_tabla_vacias = pesajes_2016_semanas_vacias.groupby([\"PUNTO\", \"MES\"]).filter(lambda x: x[\"SEMANA\"].count() >= 3)\n",
    "Agregar_a_tabla_vacias_filtrada_2016 = Agregar_a_tabla_vacias.iloc[:,[0,3]].drop_duplicates().sort_values(by=['PUNTO', 'MES'])\n",
    "Agregar_a_tabla_vacias_filtrada_2016 = Agregar_a_tabla_vacias_filtrada_2016.groupby([\"PUNTO\"]).size().to_frame().rename(columns = {0: \"Vacios_2016\"})\n",
    "\n",
    "Agregar_a_tabla_vacias_2015 = pesajes_2015_semanas_vacias.groupby([\"PUNTO\", \"MES\"]).filter(lambda x: x[\"SEMANA\"].count() >= 3)\n",
    "Agregar_a_tabla_vacias_filtrada_2015 = Agregar_a_tabla_vacias_2015.iloc[:,[0,3]].drop_duplicates().sort_values(by=['PUNTO', 'MES'])\n",
    "Agregar_a_tabla_vacias_filtrada_2015 = Agregar_a_tabla_vacias_filtrada_2015.groupby([\"PUNTO\"]).size().to_frame().rename(columns = {0: \"Vacios_2015\"})\n",
    "\n",
    "Tabla_de_Vacios_Completa = pd.merge(Tabla_de_Vacios_Completa, Agregar_a_tabla_vacias_filtrada_2016, how='left', left_index=True, right_index=True).fillna(0)\n",
    "Tabla_de_Vacios_Completa = pd.merge(Tabla_de_Vacios_Completa, Agregar_a_tabla_vacias_filtrada_2015, how='left', left_index=True, right_index=True).fillna(0)\n",
    "Tabla_de_Vacios_Completa['Meses_No_Utilizables'] = Tabla_de_Vacios_Completa.Faltantes_2016 + Tabla_de_Vacios_Completa.Vacios_2016 + Tabla_de_Vacios_Completa.Vacios_2015"
   ]
  },
  {
   "cell_type": "markdown",
   "metadata": {},
   "source": [
    "### Decidimos borrar estos 4 Puntos por no cumplir el criterio de meses Vacios que definimos."
   ]
  },
  {
   "cell_type": "code",
   "execution_count": 20,
   "metadata": {},
   "outputs": [
    {
     "data": {
      "text/html": [
       "<div>\n",
       "<style>\n",
       "    .dataframe thead tr:only-child th {\n",
       "        text-align: right;\n",
       "    }\n",
       "\n",
       "    .dataframe thead th {\n",
       "        text-align: left;\n",
       "    }\n",
       "\n",
       "    .dataframe tbody tr th {\n",
       "        vertical-align: top;\n",
       "    }\n",
       "</style>\n",
       "<table border=\"1\" class=\"dataframe\">\n",
       "  <thead>\n",
       "    <tr style=\"text-align: right;\">\n",
       "      <th></th>\n",
       "      <th>Faltantes_2016</th>\n",
       "      <th>Vacios_2016</th>\n",
       "      <th>Vacios_2015</th>\n",
       "      <th>Meses_No_Utilizables</th>\n",
       "    </tr>\n",
       "    <tr>\n",
       "      <th>PUNTO</th>\n",
       "      <th></th>\n",
       "      <th></th>\n",
       "      <th></th>\n",
       "      <th></th>\n",
       "    </tr>\n",
       "  </thead>\n",
       "  <tbody>\n",
       "    <tr>\n",
       "      <th>PLAZA 25 DE AGOSTO</th>\n",
       "      <td>4</td>\n",
       "      <td>8.0</td>\n",
       "      <td>11.0</td>\n",
       "      <td>23.0</td>\n",
       "    </tr>\n",
       "    <tr>\n",
       "      <th>ESTACION VILLA SOLDATI</th>\n",
       "      <td>4</td>\n",
       "      <td>8.0</td>\n",
       "      <td>4.0</td>\n",
       "      <td>16.0</td>\n",
       "    </tr>\n",
       "    <tr>\n",
       "      <th>PLAZA VELAZCO IBARRA</th>\n",
       "      <td>3</td>\n",
       "      <td>0.0</td>\n",
       "      <td>4.0</td>\n",
       "      <td>7.0</td>\n",
       "    </tr>\n",
       "    <tr>\n",
       "      <th>PLAZA M BELGRANO</th>\n",
       "      <td>3</td>\n",
       "      <td>2.0</td>\n",
       "      <td>0.0</td>\n",
       "      <td>5.0</td>\n",
       "    </tr>\n",
       "  </tbody>\n",
       "</table>\n",
       "</div>"
      ],
      "text/plain": [
       "                        Faltantes_2016  Vacios_2016  Vacios_2015  \\\n",
       "PUNTO                                                              \n",
       "PLAZA 25 DE AGOSTO                   4          8.0         11.0   \n",
       "ESTACION VILLA SOLDATI               4          8.0          4.0   \n",
       "PLAZA VELAZCO IBARRA                 3          0.0          4.0   \n",
       "PLAZA M BELGRANO                     3          2.0          0.0   \n",
       "\n",
       "                        Meses_No_Utilizables  \n",
       "PUNTO                                         \n",
       "PLAZA 25 DE AGOSTO                      23.0  \n",
       "ESTACION VILLA SOLDATI                  16.0  \n",
       "PLAZA VELAZCO IBARRA                     7.0  \n",
       "PLAZA M BELGRANO                         5.0  "
      ]
     },
     "execution_count": 20,
     "metadata": {},
     "output_type": "execute_result"
    }
   ],
   "source": [
    "pesajes_criterio_de_limpieza = pesajes.loc[~pesajes['PUNTO'].isin(['ESTACION VILLA SOLDATI','PLAZA 25 DE AGOSTO','PLAZA VELAZCO IBARRA','PLAZA SAN MARTIN'])]\n",
    "\n",
    "# Muestro la tabla ordenada por Meses No utilizables. Solo muestro los que no cumplen el criterio de meses faltantes\n",
    "Tabla_de_Vacios_Completa.sort_values(by=['Meses_No_Utilizables'],ascending=False).iloc[0:4,:]"
   ]
  },
  {
   "cell_type": "markdown",
   "metadata": {},
   "source": [
    "### Observando el Dataset pudimos ver que existen muchos nulos en ciertas quintas semanas de 2015 y 2016, estas semanas al corroborar con el calendario tenian muy pocos días. Asuminos esta como la razon de porque no se cargaron en casi ninguna comuna y las eliminamos\n",
    "\n",
    "Podemos ver el estado actual de nulos para compararlo cuando eliminemos las quintas semanas del mes 6 y 11 para 2015 y el mes 1 y 9 para 2016"
   ]
  },
  {
   "cell_type": "code",
   "execution_count": 21,
   "metadata": {
    "scrolled": true
   },
   "outputs": [
    {
     "name": "stdout",
     "output_type": "stream",
     "text": [
      "Nulos restantes\n"
     ]
    },
    {
     "data": {
      "text/plain": [
       "VIDRIO                        38\n",
       "PAPEL_Y_CARTON                39\n",
       "METAL                         39\n",
       "TELGOPOR                      39\n",
       "PLASTICOS_TODOS_LOS_DEMAS     37\n",
       "TETRA_BRICK                  377\n",
       "dtype: int64"
      ]
     },
     "execution_count": 21,
     "metadata": {},
     "output_type": "execute_result"
    }
   ],
   "source": [
    "pesajes_con_nulo = pesajes_criterio_de_limpieza.replace('', np.nan).replace(' ', np.nan)\n",
    "pesajes_1 = pesajes_con_nulo.loc[~((pesajes_con_nulo['ANIO'] == 2015) & (pesajes_con_nulo['MES'] == 6) & (pesajes_con_nulo['SEMANA'] == 5))]\n",
    "pesajes_2 = pesajes_1.loc[~((pesajes_1['ANIO'] == 2015) & (pesajes_1['MES'] == 11) & (pesajes_1['SEMANA'] == 5))]\n",
    "pesajes_3 = pesajes_2.loc[~((pesajes_2['ANIO'] == 2016) & (pesajes_2['MES'] == 1) & (pesajes_2['SEMANA'] == 5))]\n",
    "pesajes_sin_quinta_vacias = pesajes_3.loc[~((pesajes_3['ANIO'] == 2016) & (pesajes_3['MES'] == 9) & (pesajes_3['SEMANA'] == 5))]\n",
    "\n",
    "pesajes_ordenado = pesajes_sin_quinta_vacias.sort_values(by=['ANIO','MES'])\n",
    "print(\"Nulos restantes\"); pesajes_ordenado.isnull().sum()[pesajes_ordenado.isnull().sum() > 0]"
   ]
  },
  {
   "cell_type": "markdown",
   "metadata": {},
   "source": [
    "### Como termina en la tercera semana de Septiembre de 2016, la cuarta esta vacia. Decidimos llenar esta cuarta semana con una media da las primeras 3 semanas"
   ]
  },
  {
   "cell_type": "code",
   "execution_count": 22,
   "metadata": {
    "scrolled": true
   },
   "outputs": [
    {
     "name": "stdout",
     "output_type": "stream",
     "text": [
      "Nulos restantes\n"
     ]
    },
    {
     "data": {
      "text/plain": [
       "VIDRIO                        12\n",
       "PAPEL_Y_CARTON                13\n",
       "METAL                         13\n",
       "TELGOPOR                      13\n",
       "PLASTICOS_TODOS_LOS_DEMAS     10\n",
       "TETRA_BRICK                  351\n",
       "dtype: int64"
      ]
     },
     "execution_count": 22,
     "metadata": {},
     "output_type": "execute_result"
    }
   ],
   "source": [
    "for indice in range(0, len(pesajes_ordenado)):\n",
    "    if ((pesajes_ordenado.iloc[indice,2:5] == [2016, 9, 4]).all()):\n",
    "        media = round((pesajes_ordenado.iloc[indice-3,5:12].apply(lambda x: float(x)) +\n",
    "                 pesajes_ordenado.iloc[indice-2,5:12].apply(lambda x: float(x)) +\n",
    "                 pesajes_ordenado.iloc[indice-1,5:12].apply(lambda x: float(x)))\n",
    "                 /3, 3)\n",
    "        pesajes_ordenado.iloc[indice,5:12] = media.apply(lambda x: str(x))\n",
    "        \n",
    "#Relleno a mano 5 excepciones con las medias de los meses cercanos a ellas\n",
    "for i in range (0,5):\n",
    "    pesajes_ordenado.iloc[1996+i,5:12] = pesajes_ordenado.iloc[1967,5:12]\n",
    "    \n",
    "pesajes_ordenado.loc[2038,'PLASTICOS_TODOS_LOS_DEMAS'] = pesajes_ordenado.loc[2037,'PLASTICOS_TODOS_LOS_DEMAS']\n",
    "print(\"Nulos restantes\"); pesajes_ordenado.isnull().sum()[pesajes_ordenado.isnull().sum() > 0]"
   ]
  },
  {
   "cell_type": "markdown",
   "metadata": {},
   "source": [
    "### El resto de nulos (no tetra_brick) que quedan los rellenamos haciendo un promedio de sus semanas llenas en ese mes."
   ]
  },
  {
   "cell_type": "code",
   "execution_count": 23,
   "metadata": {},
   "outputs": [
    {
     "name": "stdout",
     "output_type": "stream",
     "text": [
      "Nulos restantes\n"
     ]
    },
    {
     "data": {
      "text/plain": [
       "TETRA_BRICK    352\n",
       "dtype: int64"
      ]
     },
     "execution_count": 23,
     "metadata": {},
     "output_type": "execute_result"
    }
   ],
   "source": [
    "pesajes_ordenado = pesajes_ordenado.replace('nan', np.nan)\n",
    "VidriosNulos = pesajes_ordenado[pesajes_ordenado.iloc[:,5].isnull()] #VIDRIOS\n",
    "PyCNulos = pesajes_ordenado[pesajes_ordenado.iloc[:,6].isnull()]     #PAPEL Y CARTON\n",
    "MetalNulos = pesajes_ordenado[pesajes_ordenado.iloc[:,7].isnull()]   #METAL\n",
    "TelgoporNulos = pesajes_ordenado[pesajes_ordenado.iloc[:,8].isnull()]#TELGOPOR\n",
    "matsNulos = [VidriosNulos, PyCNulos, MetalNulos, TelgoporNulos]\n",
    "material = ['VIDRIO','PAPEL_Y_CARTON','METAL','TELGOPOR']\n",
    "\n",
    "# Relleno con la media de las semanas restantes del mes con algunas nulas mas las del siguiente y el anterior\n",
    "for m in range(0, 4):\n",
    "    for i in range(0, len(matsNulos[m])):\n",
    "        mesActual = matsNulos[m]['MES'].iloc[i]\n",
    "        medias = (pesajes_ordenado.loc[(pesajes_ordenado['MES'].isin([mesActual, mesActual-1, mesActual+1])) & (pesajes_ordenado['ANIO'] == matsNulos[m]['ANIO'].iloc[i]) & (pesajes_ordenado['PUNTO'] == matsNulos[m]['PUNTO'].iloc[i]) & \n",
    "                                       (pesajes_ordenado[material[m]].notnull())].iloc[:,[5,6,7,9,10]]).apply(lambda x: x.apply(lambda x: float(x))).mean().apply(lambda x: str(round(x,2)))\n",
    "        count = 0\n",
    "        for c in ['VIDRIO','PAPEL_Y_CARTON','METAL','TELGOPOR','PLASTICOS_TODOS_LOS_DEMAS']:\n",
    "            pesajes_ordenado.loc[matsNulos[m].index[i], c] = medias[count]\n",
    "            count+=1\n",
    "\n",
    "print(\"Nulos restantes\"); pesajes_ordenado.isnull().sum()[pesajes_ordenado.isnull().sum() > 0]"
   ]
  },
  {
   "cell_type": "markdown",
   "metadata": {},
   "source": [
    "### Por ultimo llenamos los Tetra Bricks que faltan usando las medias de las semanas(o mes en peor caso) anterior y siguiente"
   ]
  },
  {
   "cell_type": "code",
   "execution_count": 24,
   "metadata": {},
   "outputs": [
    {
     "name": "stdout",
     "output_type": "stream",
     "text": [
      "Chequeamos si quedo algun pasaje nulo: False\n"
     ]
    }
   ],
   "source": [
    "# En meses 1,2 y 3 de 2015 estan casi todos los vacios, los relleno con la media en el mismo punto de los meses 4 y 5\n",
    "EneFebMar_TetraNulos = pesajes_ordenado.loc[(pesajes_ordenado['ANIO'] == 2015) & (pesajes_ordenado['MES'].isin([1,2,3])) & (pesajes_ordenado['TETRA_BRICK'].isnull())]\n",
    "\n",
    "# Relleno con la media del los meses 4 y 5 que sean de mismo Punto\n",
    "for i in range(0, len(EneFebMar_TetraNulos)):\n",
    "    media = (pesajes_ordenado.loc[(pesajes_ordenado['MES'].isin([4,5])) & (pesajes_ordenado['ANIO'] == 2016) & (pesajes_ordenado['PUNTO'] == EneFebMar_TetraNulos['PUNTO'].iloc[i]) & \n",
    "                              (pesajes_ordenado['TETRA_BRICK'].notnull())].iloc[:,10]).apply(lambda x: float(x)).mean()\n",
    "    media = str(round(media,2))\n",
    "    pesajes_ordenado.loc[EneFebMar_TetraNulos.index[i],'TETRA_BRICK'] = media\n",
    "\n",
    "# Los pocos Nulos faltantes los lleno las semanas con las medias de sus respectivos meses en sus respectivos puntos\n",
    "TetraUltimosNulos = pesajes_ordenado[pesajes_ordenado.iloc[:,10].isnull()]\n",
    "for i in range(0, len(TetraUltimosNulos)):\n",
    "    mesActual = TetraUltimosNulos['MES'].iloc[i]\n",
    "    media = (pesajes_ordenado.loc[(pesajes_ordenado['MES'].isin([mesActual, mesActual-1, mesActual+1])) & (pesajes_ordenado['ANIO'] == TetraUltimosNulos['ANIO'].iloc[i]) & (pesajes_ordenado['PUNTO'] == TetraUltimosNulos['PUNTO'].iloc[i]) & \n",
    "                                  (pesajes_ordenado['TETRA_BRICK'].notnull())].iloc[:,10]).apply(lambda x: float(x)).mean()\n",
    "    media = str(round(media,2))\n",
    "    pesajes_ordenado.loc[TetraUltimosNulos.index[i],'TETRA_BRICK'] = media\n",
    "\n",
    "print(f\"Chequeamos si quedo algun pasaje nulo: {pesajes_ordenado.isnull().sum().any()}\")"
   ]
  },
  {
   "cell_type": "code",
   "execution_count": 25,
   "metadata": {
    "collapsed": true
   },
   "outputs": [],
   "source": [
    "export_csv = pesajes_ordenado.to_csv(r'pesajes_nulos.csv', index = None, header=True, sep=';')"
   ]
  }
 ],
 "metadata": {
  "kernelspec": {
   "display_name": "Python 3",
   "language": "python",
   "name": "python3"
  },
  "language_info": {
   "codemirror_mode": {
    "name": "ipython",
    "version": 3
   },
   "file_extension": ".py",
   "mimetype": "text/x-python",
   "name": "python",
   "nbconvert_exporter": "python",
   "pygments_lexer": "ipython3",
   "version": "3.6.3"
  }
 },
 "nbformat": 4,
 "nbformat_minor": 2
}
